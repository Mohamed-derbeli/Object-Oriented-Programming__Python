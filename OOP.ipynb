{
  "nbformat": 4,
  "nbformat_minor": 0,
  "metadata": {
    "colab": {
      "name": "Class_exercises.ipynb",
      "provenance": [],
      "toc_visible": true,
      "authorship_tag": "ABX9TyMPVSVxfKDY8Ykmw5D+TS6x",
      "include_colab_link": true
    },
    "kernelspec": {
      "name": "python3",
      "display_name": "Python 3"
    },
    "language_info": {
      "name": "python"
    }
  },
  "cells": [
    {
      "cell_type": "markdown",
      "metadata": {
        "id": "view-in-github",
        "colab_type": "text"
      },
      "source": [
        "<a href=\"https://colab.research.google.com/github/Mohamed-derbeli/Object-Oriented-Programming__Python/blob/main/OOP.ipynb\" target=\"_parent\"><img src=\"https://colab.research.google.com/assets/colab-badge.svg\" alt=\"Open In Colab\"/></a>"
      ]
    },
    {
      "cell_type": "code",
      "metadata": {
        "colab": {
          "base_uri": "https://localhost:8080/"
        },
        "id": "2W3dFFmA7Brr",
        "outputId": "1c2391b4-d155-4986-bf9e-6d61f6a43392"
      },
      "source": [
        "class Lunch:\n",
        "    def __init__(self,menu):\n",
        "        self.menu=menu\n",
        "    def menu_price(self):\n",
        "        if self.menu == \"menu 1\":\n",
        "            print(\"your choice: \", self.menu, \"Price 12.00\")\n",
        "        elif self.menu == \"menu 2\":\n",
        "            print(\"your choice,\", self.menu,\"Price 13.40\" )\n",
        "        else:\n",
        "            print(\"Error in menu\")\n",
        "\n",
        "Reuslt=Lunch(\"menu 2\")\n",
        "print(Reuslt.menu_price())"
      ],
      "execution_count": null,
      "outputs": [
        {
          "output_type": "stream",
          "name": "stdout",
          "text": [
            "your choice, menu 2 Price 13.40\n",
            "None\n"
          ]
        }
      ]
    },
    {
      "cell_type": "code",
      "metadata": {
        "colab": {
          "base_uri": "https://localhost:8080/"
        },
        "id": "RtZZph1-_Kbz",
        "outputId": "a8246cf3-be0c-41db-af4a-7840f84c9410"
      },
      "source": [
        "class Point3D:\n",
        "    def __init__(self,x,y,z):\n",
        "        self.x=x\n",
        "        self.y=y\n",
        "        self.z=z\n",
        "    def __repr__(self):\n",
        "        return (self.x, self.y, self.z)\n",
        "\n",
        "my_point=Point3D(1,2,3)\n",
        "print (my_point.__repr__())"
      ],
      "execution_count": null,
      "outputs": [
        {
          "output_type": "stream",
          "name": "stdout",
          "text": [
            "(1, 2, 3)\n"
          ]
        }
      ]
    },
    {
      "cell_type": "code",
      "metadata": {
        "colab": {
          "base_uri": "https://localhost:8080/"
        },
        "id": "RRnAPyNH_KTP",
        "outputId": "51c08616-6422-46b8-9abd-621e2b45c3cb"
      },
      "source": [
        "class songs:\n",
        "    def __init__(self, lyrics):\n",
        "        self.lyrics=lyrics\n",
        "    def sing_me_a_song(self):\n",
        "        for element in self.lyrics:\n",
        "            print(element)\n",
        "\n",
        "\n",
        "each_element=songs(\"Mohamed\")\n",
        "happy_bday=songs([\"may god bless you,\",\n",
        "                  \"have a sunshine on you,\",\n",
        "                  \"happy birthday to yoiu!\"])\n",
        "print(each_element.sing_me_a_song())\n",
        "print(happy_bday.sing_me_a_song())\n",
        "#print(each_element.lyrics)"
      ],
      "execution_count": null,
      "outputs": [
        {
          "output_type": "stream",
          "name": "stdout",
          "text": [
            "M\n",
            "o\n",
            "h\n",
            "a\n",
            "m\n",
            "e\n",
            "d\n",
            "None\n",
            "may god bless you,\n",
            "have a sunshine on you,\n",
            "happy birthday to yoiu!\n",
            "None\n"
          ]
        }
      ]
    },
    {
      "cell_type": "code",
      "metadata": {
        "colab": {
          "base_uri": "https://localhost:8080/"
        },
        "id": "jo0UCT8d_KEL",
        "outputId": "7427011c-485c-4a84-8da9-3763ce09f369"
      },
      "source": [
        "class triangle:\n",
        "    def __init__(self,angle1, angle2, angle3):\n",
        "        self.angle1=angle1\n",
        "        self.angle2=angle2\n",
        "        self.angle3=angle3\n",
        "        self.number_of_sides=3\n",
        "\n",
        "    def check_angles(self):\n",
        "        result=\" \"\n",
        "        sum=self.angle1 + self.angle2 + self.angle3\n",
        "        if  sum== 180:\n",
        "            result= True\n",
        "        else:\n",
        "            result= False\n",
        "        return result\n",
        "\n",
        "my_triangle=triangle(50,110,20)\n",
        "print(my_triangle.number_of_sides)\n",
        "print(my_triangle.check_angles())"
      ],
      "execution_count": null,
      "outputs": [
        {
          "output_type": "stream",
          "name": "stdout",
          "text": [
            "3\n",
            "True\n"
          ]
        }
      ]
    },
    {
      "cell_type": "code",
      "source": [
        "class Question:\n",
        "  def __init__( self, prompt, answer):\n",
        "    self.prompt = prompt\n",
        "    self.answer= answer\n",
        "\n",
        "\n",
        "question_prompts= [\n",
        "                  \"What color are apples? \\n(a) Red/Green \\n (b) Purple \\n (c) Orange \\n \\n  \",\n",
        "                  \"What color are Banana? \\n(a) Teal \\n (b) Magenta \\n (c) Yellow \\n \\n  \",\n",
        "                  \"What color are Limon? \\n(a) Green \\n (b) Yellow \\n (c) Blue \\n \\n  \"\n",
        "]\n",
        "\n",
        "\n",
        "questions = [\n",
        "            Question(question_prompts[0], \"a\"),\n",
        "            Question(question_prompts[1], \"c\"),\n",
        "            Question(question_prompts[2], \"b\"), \n",
        "]\n",
        "\n",
        "\n",
        "def run_test(questions):\n",
        "  score=0\n",
        "  for question in questions:\n",
        "    answer = input(question.prompta) \n",
        "    if answer== question.answer:\n",
        "      score += 1\n",
        "  print(\"You got \" + str(score) + \"/\" + str(len(questions)) + \" acorrect\")\n",
        "\n",
        "\n",
        "run_test(questions)"
      ],
      "metadata": {
        "colab": {
          "base_uri": "https://localhost:8080/"
        },
        "id": "CqfBWh9aTAq_",
        "outputId": "ac144114-4416-4b0d-d586-fd123d68a1bf"
      },
      "execution_count": null,
      "outputs": [
        {
          "output_type": "stream",
          "name": "stdout",
          "text": [
            "What color are apples? \n",
            "(a) Red/Green \n",
            " (b) Purple \n",
            " (c) Orange \n",
            " \n",
            "  a\n",
            "What color are Banana? \n",
            "(a) Teal \n",
            " (b) Magenta \n",
            " (c) Yellow \n",
            " \n",
            "  a\n",
            "What color are Limon? \n",
            "(a) Green \n",
            " (b) Yellow \n",
            " (c) Blue \n",
            " \n",
            "  a\n",
            "You got 1/3 acorrect\n"
          ]
        }
      ]
    },
    {
      "cell_type": "code",
      "source": [
        "class student:\n",
        "  def __init__(self, name, major, gpa):\n",
        "    self.name= name\n",
        "    self.major= major\n",
        "    self.gpa= gpa\n",
        "\n",
        "\n",
        "  def on_honor_roll(self):\n",
        "    if self.gpa >= 3.5:\n",
        "      return True\n",
        "    else:\n",
        "      return False\n",
        "\n",
        "\n",
        "student1= student(\"oscar\", \"Accounting\", 3.2)\n",
        "student2= student(\"Alex\", \"Buisness\", 3.9)\n",
        "\n",
        "\n",
        "print(student1.on_honor_roll())\n",
        "print(student2.on_honor_roll())"
      ],
      "metadata": {
        "colab": {
          "base_uri": "https://localhost:8080/"
        },
        "id": "ElffNCJMZ81Z",
        "outputId": "8040a42d-56cc-45a2-beca-8576ace67860"
      },
      "execution_count": null,
      "outputs": [
        {
          "output_type": "stream",
          "name": "stdout",
          "text": [
            "False\n",
            "True\n"
          ]
        }
      ]
    },
    {
      "cell_type": "markdown",
      "source": [
        "## Inheritance"
      ],
      "metadata": {
        "id": "ODMfspfvdTNI"
      }
    },
    {
      "cell_type": "code",
      "source": [
        "class chef1:\n",
        "  def make_chicken(self):\n",
        "    print(\"The chef makes a chicken\")\n",
        "  def make_pizza(self):\n",
        "    print(\"The chef makes a pizza\")\n",
        "\n",
        "class chef2:\n",
        "  def make_salad(self):\n",
        "    print(\"The chef makes a salad\")\n",
        "  def make_fried_rice(self):\n",
        "    print(\"The chef makes a fried rice\")\n",
        "\n",
        "class general_chef(chef1,chef2):  # inheritence is the process of using functions of other classes\n",
        "  def make_special_dish(self):\n",
        "    print(\"The chef makes a special dish\")\n",
        "\n",
        "mychef=general_chef()\n",
        "\n",
        "mychef.make_pizza()\n",
        "mychef.make_fried_rice()"
      ],
      "metadata": {
        "colab": {
          "base_uri": "https://localhost:8080/"
        },
        "id": "mzq87XHHdRRw",
        "outputId": "2271911a-8914-4c65-f2c7-d1450410ae4c"
      },
      "execution_count": null,
      "outputs": [
        {
          "output_type": "stream",
          "name": "stdout",
          "text": [
            "The chef makes a pizza\n",
            "The chef makes a fried rice\n"
          ]
        }
      ]
    },
    {
      "cell_type": "code",
      "source": [
        "# Create a child class Bus that will inherit all of the variables and methods of the Vehicle class\n",
        "# Vehicle Name: School Volvo Speed: 180 Mileage: 12\n",
        "\n",
        "class Vehicle:\n",
        "    color= 'White'\n",
        "    def __init__(self, max_speed, mileage):\n",
        "        self.max_speed = max_speed\n",
        "        self.mileage = mileage\n",
        "    \n",
        "class bus(Vehicle):\n",
        "    def __init__(self):\n",
        "        Vehicle.__init__(self, 180, 12)\n",
        "    \n",
        "    def _Name_(self, name):\n",
        "        self.name= name\n",
        "    \n",
        "    def seating_capacity(self, capacity):\n",
        "      self.capacity = capacity\n",
        "      return f'The seating capacity of a {self.name} is {capacity} passengers'\n",
        "\n",
        "class car(Vehicle):\n",
        "    pass\n",
        "    \n",
        "school_bus= bus()\n",
        "\n",
        "school_bus._Name_('School Volvo')\n",
        "print(\"Color: \", school_bus.color, \", Vehicle Name: \", school_bus.name,\", speed: \", school_bus.max_speed, \", Mileage: \", school_bus.mileage)\n",
        "print(school_bus.seating_capacity(50))\n",
        "\n",
        "\n",
        "mycar= car(120,12)\n",
        "print(\"Color: \", mycar.color, \", speed: \", mycar.max_speed, \", Mileage: \", mycar.mileage)\n"
      ],
      "metadata": {
        "colab": {
          "base_uri": "https://localhost:8080/"
        },
        "id": "c7juTugmz2m9",
        "outputId": "4f5b0f65-76ee-486d-a51e-36f90b556e2f"
      },
      "execution_count": null,
      "outputs": [
        {
          "output_type": "stream",
          "name": "stdout",
          "text": [
            "Color:  White , Vehicle Name:  School Volvo , speed:  180 , Mileage:  12\n",
            "The seating capacity of a School Volvo is 50 passengers\n",
            "Color:  White , speed:  120 , Mileage:  12\n"
          ]
        }
      ]
    },
    {
      "cell_type": "code",
      "source": [
        "# Rotate an image/marix by 90 degrees (clockwise).\n",
        "import numpy as np\n",
        "\n",
        "def rotate(A):\n",
        "  n=len(A)\n",
        "  B=np.zeros((n,n))\n",
        "  for i in range(n):\n",
        "      for j in range(n):\n",
        "        B[i][j]=A[n-j-1][i]\n",
        "  return B\n",
        "\n",
        "A=[[1, 2, 3],\n",
        "   [4, 5, 6],\n",
        "   [7, 8,9]]\n",
        "med=rotate(A)\n",
        "print(A,\"\\n\",med)"
      ],
      "metadata": {
        "colab": {
          "base_uri": "https://localhost:8080/"
        },
        "id": "joD7alvjET63",
        "outputId": "2e9c53dc-67c0-4f07-c268-1675339ba8cb"
      },
      "execution_count": 65,
      "outputs": [
        {
          "output_type": "stream",
          "name": "stdout",
          "text": [
            "[[1, 2, 3], [4, 5, 6], [7, 8, 9]] \n",
            " [[7. 4. 1.]\n",
            " [8. 5. 2.]\n",
            " [9. 6. 3.]]\n"
          ]
        }
      ]
    },
    {
      "cell_type": "code",
      "source": [
        "def maxSubArray(A):\n",
        "    n = len(A)\n",
        "    maximum=0\n",
        "    for i in range(n):\n",
        "        new_max1 =A[i]\n",
        "        new_max2 =A[n-i-1]\n",
        "        for j in range(i+1,n):\n",
        "            new_max1 +=A[j]\n",
        "            new_max2 +=A[n-j-1]\n",
        "            new_max = max(new_max1,new_max2)\n",
        "        if maximum<new_max:\n",
        "            maximum=new_max          \n",
        "    return maximum\n",
        "\n",
        "\n",
        "A = [-2, 1, -3, 4, -1, 2, 1, -5, 4]\n",
        "   \n",
        "med=maxSubArray(A)\n",
        "print(A,\"\\n\",med)"
      ],
      "metadata": {
        "colab": {
          "base_uri": "https://localhost:8080/"
        },
        "id": "D2gFXzVaEhhx",
        "outputId": "d6b8d350-3c0f-4c6b-cf08-c9e588ac7687"
      },
      "execution_count": 75,
      "outputs": [
        {
          "output_type": "stream",
          "name": "stdout",
          "text": [
            "[-2, 1, -3, 4, -1, 2, 1, -5, 4] \n",
            " 5\n"
          ]
        }
      ]
    },
    {
      "cell_type": "code",
      "source": [
        "import numpy as np\n",
        "\n",
        "def setZeroes(A):\n",
        "    M=len(A)\n",
        "    N = len(A[0])\n",
        "    B = np.zeros((M,N),dtype=int)\n",
        "    A1=np.ones((M,N),dtype=int)\n",
        "    for i in range(M):\n",
        "        for j in range(N):\n",
        "            if A[i][j]==0:\n",
        "                A1[:][j]= B[:][j]\n",
        "                A1[i][:]= B[i][:]\n",
        "                # print(A)\n",
        "    return A1\n",
        "\n",
        "A=[[1, 0, 1],\n",
        "   [1, 1, 1],\n",
        "   [1, 1, 1]]\n",
        "\n",
        "output = setZeroes(A)\n",
        "output"
      ],
      "metadata": {
        "id": "NqyyCKO8NttV",
        "outputId": "7c09e77d-fc24-49af-a81f-ff37e0fe6a27",
        "colab": {
          "base_uri": "https://localhost:8080/"
        }
      },
      "execution_count": 33,
      "outputs": [
        {
          "output_type": "execute_result",
          "data": {
            "text/plain": [
              "array([[0, 0, 0],\n",
              "       [0, 0, 0],\n",
              "       [1, 1, 1]])"
            ]
          },
          "metadata": {},
          "execution_count": 33
        }
      ]
    }
  ]
}