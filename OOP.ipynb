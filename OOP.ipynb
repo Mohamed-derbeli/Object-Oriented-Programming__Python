{
  "nbformat": 4,
  "nbformat_minor": 0,
  "metadata": {
    "colab": {
      "name": "Class_exercises.ipynb",
      "provenance": [],
      "toc_visible": true,
      "authorship_tag": "ABX9TyMA4TFK0f/0VMNHI8pmmST4",
      "include_colab_link": true
    },
    "kernelspec": {
      "name": "python3",
      "display_name": "Python 3"
    },
    "language_info": {
      "name": "python"
    }
  },
  "cells": [
    {
      "cell_type": "markdown",
      "metadata": {
        "id": "view-in-github",
        "colab_type": "text"
      },
      "source": [
        "<a href=\"https://colab.research.google.com/github/Mohamed-derbeli/Object-Oriented-Programming__Python/blob/main/OOP.ipynb\" target=\"_parent\"><img src=\"https://colab.research.google.com/assets/colab-badge.svg\" alt=\"Open In Colab\"/></a>"
      ]
    },
    {
      "cell_type": "code",
      "metadata": {
        "colab": {
          "base_uri": "https://localhost:8080/"
        },
        "id": "2W3dFFmA7Brr",
        "outputId": "1c2391b4-d155-4986-bf9e-6d61f6a43392"
      },
      "source": [
        "class Lunch:\n",
        "    def __init__(self,menu):\n",
        "        self.menu=menu\n",
        "    def menu_price(self):\n",
        "        if self.menu == \"menu 1\":\n",
        "            print(\"your choice: \", self.menu, \"Price 12.00\")\n",
        "        elif self.menu == \"menu 2\":\n",
        "            print(\"your choice,\", self.menu,\"Price 13.40\" )\n",
        "        else:\n",
        "            print(\"Error in menu\")\n",
        "\n",
        "Reuslt=Lunch(\"menu 2\")\n",
        "print(Reuslt.menu_price())"
      ],
      "execution_count": null,
      "outputs": [
        {
          "output_type": "stream",
          "name": "stdout",
          "text": [
            "your choice, menu 2 Price 13.40\n",
            "None\n"
          ]
        }
      ]
    },
    {
      "cell_type": "code",
      "metadata": {
        "colab": {
          "base_uri": "https://localhost:8080/"
        },
        "id": "RtZZph1-_Kbz",
        "outputId": "a8246cf3-be0c-41db-af4a-7840f84c9410"
      },
      "source": [
        "class Point3D:\n",
        "    def __init__(self,x,y,z):\n",
        "        self.x=x\n",
        "        self.y=y\n",
        "        self.z=z\n",
        "    def __repr__(self):\n",
        "        return (self.x, self.y, self.z)\n",
        "\n",
        "my_point=Point3D(1,2,3)\n",
        "print (my_point.__repr__())"
      ],
      "execution_count": null,
      "outputs": [
        {
          "output_type": "stream",
          "name": "stdout",
          "text": [
            "(1, 2, 3)\n"
          ]
        }
      ]
    },
    {
      "cell_type": "code",
      "metadata": {
        "colab": {
          "base_uri": "https://localhost:8080/"
        },
        "id": "RRnAPyNH_KTP",
        "outputId": "51c08616-6422-46b8-9abd-621e2b45c3cb"
      },
      "source": [
        "class songs:\n",
        "    def __init__(self, lyrics):\n",
        "        self.lyrics=lyrics\n",
        "    def sing_me_a_song(self):\n",
        "        for element in self.lyrics:\n",
        "            print(element)\n",
        "\n",
        "\n",
        "each_element=songs(\"Mohamed\")\n",
        "happy_bday=songs([\"may god bless you,\",\n",
        "                  \"have a sunshine on you,\",\n",
        "                  \"happy birthday to yoiu!\"])\n",
        "print(each_element.sing_me_a_song())\n",
        "print(happy_bday.sing_me_a_song())\n",
        "#print(each_element.lyrics)"
      ],
      "execution_count": null,
      "outputs": [
        {
          "output_type": "stream",
          "name": "stdout",
          "text": [
            "M\n",
            "o\n",
            "h\n",
            "a\n",
            "m\n",
            "e\n",
            "d\n",
            "None\n",
            "may god bless you,\n",
            "have a sunshine on you,\n",
            "happy birthday to yoiu!\n",
            "None\n"
          ]
        }
      ]
    },
    {
      "cell_type": "code",
      "metadata": {
        "colab": {
          "base_uri": "https://localhost:8080/"
        },
        "id": "jo0UCT8d_KEL",
        "outputId": "7427011c-485c-4a84-8da9-3763ce09f369"
      },
      "source": [
        "class triangle:\n",
        "    def __init__(self,angle1, angle2, angle3):\n",
        "        self.angle1=angle1\n",
        "        self.angle2=angle2\n",
        "        self.angle3=angle3\n",
        "        self.number_of_sides=3\n",
        "\n",
        "    def check_angles(self):\n",
        "        result=\" \"\n",
        "        sum=self.angle1 + self.angle2 + self.angle3\n",
        "        if  sum== 180:\n",
        "            result= True\n",
        "        else:\n",
        "            result= False\n",
        "        return result\n",
        "\n",
        "my_triangle=triangle(50,110,20)\n",
        "print(my_triangle.number_of_sides)\n",
        "print(my_triangle.check_angles())"
      ],
      "execution_count": null,
      "outputs": [
        {
          "output_type": "stream",
          "name": "stdout",
          "text": [
            "3\n",
            "True\n"
          ]
        }
      ]
    },
    {
      "cell_type": "code",
      "source": [
        "class Question:\n",
        "  def __init__( self, prompt, answer):\n",
        "    self.prompt = prompt\n",
        "    self.answer= answer\n",
        "\n",
        "\n",
        "question_prompts= [\n",
        "                  \"What color are apples? \\n(a) Red/Green \\n (b) Purple \\n (c) Orange \\n \\n  \",\n",
        "                  \"What color are Banana? \\n(a) Teal \\n (b) Magenta \\n (c) Yellow \\n \\n  \",\n",
        "                  \"What color are Limon? \\n(a) Green \\n (b) Yellow \\n (c) Blue \\n \\n  \"\n",
        "]\n",
        "\n",
        "\n",
        "questions = [\n",
        "            Question(question_prompts[0], \"a\"),\n",
        "            Question(question_prompts[1], \"c\"),\n",
        "            Question(question_prompts[2], \"b\"), \n",
        "]\n",
        "\n",
        "\n",
        "def run_test(questions):\n",
        "  score=0\n",
        "  for question in questions:\n",
        "    answer = input(question.prompta) \n",
        "    if answer== question.answer:\n",
        "      score += 1\n",
        "  print(\"You got \" + str(score) + \"/\" + str(len(questions)) + \" acorrect\")\n",
        "\n",
        "\n",
        "run_test(questions)"
      ],
      "metadata": {
        "colab": {
          "base_uri": "https://localhost:8080/"
        },
        "id": "CqfBWh9aTAq_",
        "outputId": "ac144114-4416-4b0d-d586-fd123d68a1bf"
      },
      "execution_count": null,
      "outputs": [
        {
          "output_type": "stream",
          "name": "stdout",
          "text": [
            "What color are apples? \n",
            "(a) Red/Green \n",
            " (b) Purple \n",
            " (c) Orange \n",
            " \n",
            "  a\n",
            "What color are Banana? \n",
            "(a) Teal \n",
            " (b) Magenta \n",
            " (c) Yellow \n",
            " \n",
            "  a\n",
            "What color are Limon? \n",
            "(a) Green \n",
            " (b) Yellow \n",
            " (c) Blue \n",
            " \n",
            "  a\n",
            "You got 1/3 acorrect\n"
          ]
        }
      ]
    },
    {
      "cell_type": "code",
      "source": [
        "class student:\n",
        "  def __init__(self, name, major, gpa):\n",
        "    self.name= name\n",
        "    self.major= major\n",
        "    self.gpa= gpa\n",
        "\n",
        "\n",
        "  def on_honor_roll(self):\n",
        "    if self.gpa >= 3.5:\n",
        "      return True\n",
        "    else:\n",
        "      return False\n",
        "\n",
        "\n",
        "student1= student(\"oscar\", \"Accounting\", 3.2)\n",
        "student2= student(\"Alex\", \"Buisness\", 3.9)\n",
        "\n",
        "\n",
        "print(student1.on_honor_roll())\n",
        "print(student2.on_honor_roll())"
      ],
      "metadata": {
        "colab": {
          "base_uri": "https://localhost:8080/"
        },
        "id": "ElffNCJMZ81Z",
        "outputId": "8040a42d-56cc-45a2-beca-8576ace67860"
      },
      "execution_count": null,
      "outputs": [
        {
          "output_type": "stream",
          "name": "stdout",
          "text": [
            "False\n",
            "True\n"
          ]
        }
      ]
    },
    {
      "cell_type": "markdown",
      "source": [
        "## Inheritance"
      ],
      "metadata": {
        "id": "ODMfspfvdTNI"
      }
    },
    {
      "cell_type": "code",
      "source": [
        "class chef1:\n",
        "  def make_chicken(self):\n",
        "    print(\"The chef makes a chicken\")\n",
        "  def make_pizza(self):\n",
        "    print(\"The chef makes a pizza\")\n",
        "\n",
        "class chef2:\n",
        "  def make_salad(self):\n",
        "    print(\"The chef makes a salad\")\n",
        "  def make_fried_rice(self):\n",
        "    print(\"The chef makes a fried rice\")\n",
        "\n",
        "class general_chef(chef1,chef2):  # inheritence is the process of using functions of other classes\n",
        "  def make_special_dish(self):\n",
        "    print(\"The chef makes a special dish\")\n",
        "\n",
        "mychef=general_chef()\n",
        "\n",
        "mychef.make_pizza()\n",
        "mychef.make_fried_rice()"
      ],
      "metadata": {
        "colab": {
          "base_uri": "https://localhost:8080/"
        },
        "id": "mzq87XHHdRRw",
        "outputId": "2271911a-8914-4c65-f2c7-d1450410ae4c"
      },
      "execution_count": null,
      "outputs": [
        {
          "output_type": "stream",
          "name": "stdout",
          "text": [
            "The chef makes a pizza\n",
            "The chef makes a fried rice\n"
          ]
        }
      ]
    },
    {
      "cell_type": "code",
      "source": [
        "# Create a child class Bus that will inherit all of the variables and methods of the Vehicle class\n",
        "# Vehicle Name: School Volvo Speed: 180 Mileage: 12\n",
        "\n",
        "class Vehicle:\n",
        "    color= 'White'\n",
        "    def __init__(self, max_speed, mileage):\n",
        "        self.max_speed = max_speed\n",
        "        self.mileage = mileage\n",
        "    \n",
        "class bus(Vehicle):\n",
        "    def __init__(self):\n",
        "        Vehicle.__init__(self, 180, 12)\n",
        "    \n",
        "    def _Name_(self, name):\n",
        "        self.name= name\n",
        "    \n",
        "    def seating_capacity(self, capacity):\n",
        "      self.capacity = capacity\n",
        "      return f'The seating capacity of a {self.name} is {capacity} passengers'\n",
        "\n",
        "class car(Vehicle):\n",
        "    pass\n",
        "    \n",
        "school_bus= bus()\n",
        "\n",
        "school_bus._Name_('School Volvo')\n",
        "print(\"Color: \", school_bus.color, \", Vehicle Name: \", school_bus.name,\", speed: \", school_bus.max_speed, \", Mileage: \", school_bus.mileage)\n",
        "print(school_bus.seating_capacity(50))\n",
        "\n",
        "\n",
        "mycar= car(120,12)\n",
        "print(\"Color: \", mycar.color, \", speed: \", mycar.max_speed, \", Mileage: \", mycar.mileage)\n"
      ],
      "metadata": {
        "colab": {
          "base_uri": "https://localhost:8080/"
        },
        "id": "c7juTugmz2m9",
        "outputId": "4f5b0f65-76ee-486d-a51e-36f90b556e2f"
      },
      "execution_count": null,
      "outputs": [
        {
          "output_type": "stream",
          "name": "stdout",
          "text": [
            "Color:  White , Vehicle Name:  School Volvo , speed:  180 , Mileage:  12\n",
            "The seating capacity of a School Volvo is 50 passengers\n",
            "Color:  White , speed:  120 , Mileage:  12\n"
          ]
        }
      ]
    },
    {
      "cell_type": "code",
      "source": [
        "# Rotate an image/marix by 90 degrees (clockwise).\n",
        "import numpy as np\n",
        "\n",
        "def rotate(A):\n",
        "  n=len(A)\n",
        "  B=np.zeros((n,n))\n",
        "  for i in range(n):\n",
        "      for j in range(n):\n",
        "        B[i][j]=A[n-j-1][i]\n",
        "  return B\n",
        "\n",
        "A=[[1, 2, 3],\n",
        "   [4, 5, 6],\n",
        "   [7, 8,9]]\n",
        "med=rotate(A)\n",
        "print(A,\"\\n\",med)"
      ],
      "metadata": {
        "colab": {
          "base_uri": "https://localhost:8080/"
        },
        "id": "joD7alvjET63",
        "outputId": "2e9c53dc-67c0-4f07-c268-1675339ba8cb"
      },
      "execution_count": null,
      "outputs": [
        {
          "output_type": "stream",
          "name": "stdout",
          "text": [
            "[[1, 2, 3], [4, 5, 6], [7, 8, 9]] \n",
            " [[7. 4. 1.]\n",
            " [8. 5. 2.]\n",
            " [9. 6. 3.]]\n"
          ]
        }
      ]
    },
    {
      "cell_type": "code",
      "source": [
        "def maxSubArray(A):\n",
        "    n = len(A)\n",
        "    maximum=0\n",
        "    for i in range(n):\n",
        "        new_max1 =A[i]\n",
        "        new_max2 =A[n-i-1]\n",
        "        for j in range(i+1,n):\n",
        "            new_max1 +=A[j]\n",
        "            new_max2 +=A[n-j-1]\n",
        "            new_max = max(new_max1,new_max2)\n",
        "        if maximum<new_max:\n",
        "            maximum=new_max          \n",
        "    return maximum\n",
        "\n",
        "\n",
        "A = [-2, 1, -3, 4, -1, 2, 1, -5, 4]\n",
        "   \n",
        "med=maxSubArray(A)\n",
        "print(A,\"\\n\",med)"
      ],
      "metadata": {
        "colab": {
          "base_uri": "https://localhost:8080/"
        },
        "id": "D2gFXzVaEhhx",
        "outputId": "d6b8d350-3c0f-4c6b-cf08-c9e588ac7687"
      },
      "execution_count": null,
      "outputs": [
        {
          "output_type": "stream",
          "name": "stdout",
          "text": [
            "[-2, 1, -3, 4, -1, 2, 1, -5, 4] \n",
            " 5\n"
          ]
        }
      ]
    },
    {
      "cell_type": "code",
      "source": [
        "# if one element in a matrix equal to zero, then replace the whole row and columns of that element to zeros\n",
        "import numpy as np\n",
        "\n",
        "\n",
        "A=[[1, 0, 1,0],\n",
        "   [1, 1, 1,1],\n",
        "   [1, 1, 1,1]]\n",
        "\n",
        "def column_zero(A, j):\n",
        "  A1= []\n",
        "  for rwo in A:\n",
        "    rwo[j]= 0\n",
        "    A1.append(rwo)\n",
        "  return A1\n",
        "\n",
        "\n",
        "def setZeroes(A):\n",
        "    M=len(A)\n",
        "    N = len(A[0])\n",
        "    A2=np.ones((M,N),dtype=int)\n",
        "    for i in range(M):\n",
        "        for j in range(N):\n",
        "            if A[i][j]==0:\n",
        "                A2= column_zero(A2,j)\n",
        "                A2[i][:]= 0\n",
        "    return A2\n",
        "\n",
        "\n",
        "\n",
        "output = setZeroes(A)\n",
        "output"
      ],
      "metadata": {
        "id": "NqyyCKO8NttV",
        "outputId": "dc8048a6-4e2b-44c5-9873-1ac69e813834",
        "colab": {
          "base_uri": "https://localhost:8080/"
        }
      },
      "execution_count": null,
      "outputs": [
        {
          "output_type": "execute_result",
          "data": {
            "text/plain": [
              "[array([0, 0, 0, 0]), array([1, 0, 1, 0]), array([1, 0, 1, 0])]"
            ]
          },
          "metadata": {},
          "execution_count": 56
        }
      ]
    },
    {
      "cell_type": "markdown",
      "source": [
        "### Math"
      ],
      "metadata": {
        "id": "WDkk9T_LsS4O"
      }
    },
    {
      "cell_type": "code",
      "source": [
        "# Rearrange a given array so that Arr[i] becomes Arr[Arr[i]] with O(1) extra space.\n",
        "def arrange( A):\n",
        "    B=[]\n",
        "    for i in range(len(A)):\n",
        "        B.append(A[A[i]])\n",
        "    return B\n",
        "\n",
        "A = [ 4, 0, 2, 1, 3 ]\n",
        "\n",
        "print(arrange(A))"
      ],
      "metadata": {
        "id": "fMW6KGfmOC5t",
        "outputId": "ac46f3a4-a5aa-49f3-d2af-c7ceca5866af",
        "colab": {
          "base_uri": "https://localhost:8080/"
        }
      },
      "execution_count": null,
      "outputs": [
        {
          "output_type": "stream",
          "name": "stdout",
          "text": [
            "[3, 4, 2, 0, 1]\n"
          ]
        }
      ]
    },
    {
      "cell_type": "code",
      "source": [
        "# Given an integer n\n",
        "# The first fibonacci number F1 = 1\n",
        "# The second fibonacci number F2 = 1\n",
        "# The n^th fibonacci number Fn = Fn-1 + Fn-2 (n > 2)\n",
        "\n",
        "\n",
        "def solve(A):\n",
        "    F=[]\n",
        "    for i in range(A):\n",
        "        if i < 2:\n",
        "            F.append(1)\n",
        "            print(F)\n",
        "        else:\n",
        "            F.append(F[i-1]+F[i-2])\n",
        "            print(F)\n",
        "    return F[A-1]\n",
        "\n",
        "print(solve(10))"
      ],
      "metadata": {
        "id": "NcO1COyTS6tA",
        "outputId": "412a5fe3-413a-4fbe-cf3b-279a78bb40e3",
        "colab": {
          "base_uri": "https://localhost:8080/"
        }
      },
      "execution_count": null,
      "outputs": [
        {
          "output_type": "stream",
          "name": "stdout",
          "text": [
            "[1]\n",
            "[1, 1]\n",
            "[1, 1, 2]\n",
            "[1, 1, 2, 3]\n",
            "[1, 1, 2, 3, 5]\n",
            "[1, 1, 2, 3, 5, 8]\n",
            "[1, 1, 2, 3, 5, 8, 13]\n",
            "[1, 1, 2, 3, 5, 8, 13, 21]\n",
            "[1, 1, 2, 3, 5, 8, 13, 21, 34]\n",
            "[1, 1, 2, 3, 5, 8, 13, 21, 34, 55]\n",
            "55\n"
          ]
        }
      ]
    },
    {
      "cell_type": "markdown",
      "source": [
        "### Binary Search"
      ],
      "metadata": {
        "id": "9Fg-OtGEsEU1"
      }
    },
    {
      "cell_type": "code",
      "source": [
        "def sqrt(A):\n",
        "  if A<0:\n",
        "    return\n",
        "  else:\n",
        "    return int(A**(0.5))\n",
        "\n",
        "print(sqrt(11)) "
      ],
      "metadata": {
        "id": "Gv9ZdxpIYVLN",
        "outputId": "f25ed09b-a6ba-401d-b09e-d3114f699688",
        "colab": {
          "base_uri": "https://localhost:8080/"
        }
      },
      "execution_count": null,
      "outputs": [
        {
          "output_type": "stream",
          "name": "stdout",
          "text": [
            "3\n"
          ]
        }
      ]
    },
    {
      "cell_type": "code",
      "source": [
        "# Array rotation\n",
        "\n",
        "def rotateArray1(A,d):\n",
        "  n = len(A)\n",
        "  A1 = []\n",
        "  A2 = A\n",
        "  for i in range(d,n):\n",
        "    A1.append(A[i])\n",
        "  \n",
        "  i = 0\n",
        "  for i in range(d):\n",
        "    A1.append(A[i])\n",
        "  return A1\n",
        "A = [ 4, 0, 2, 1, 3 ]\n",
        "print(\" Array after left rotation is: \", rotateArray1(A,2))\n",
        "\n",
        "\n",
        "#____second method___\n",
        "def rotateArray2(A,d):\n",
        "  n = len(A)\n",
        "  A[:] = A[d:n] + A[0:d]\n",
        "  return A\n",
        "A = [ 4, 0, 2, 1, 3 ]\n",
        "print(\" Array after left rotation is: \", rotateArray2(A,3)) "
      ],
      "metadata": {
        "colab": {
          "base_uri": "https://localhost:8080/"
        },
        "id": "Zqnrbcq3je9N",
        "outputId": "fdd7ea76-d62d-4306-d8b3-f01ccea29c1e"
      },
      "execution_count": null,
      "outputs": [
        {
          "output_type": "stream",
          "name": "stdout",
          "text": [
            " Array after left rotation is:  [2, 1, 3, 4, 0]\n",
            " Array after left rotation is:  [1, 3, 4, 0, 2]\n"
          ]
        }
      ]
    },
    {
      "cell_type": "code",
      "source": [
        "# Calculate number of rotations\n",
        "\n",
        "def nb_rotations(A,B):\n",
        "  n = len(A)\n",
        "  d=1\n",
        "  for i in range(n-1,-1,-1):\n",
        "    if B[i] != A[0]:\n",
        "      d +=1\n",
        "    elif B[i] == A[0] and i == 0:\n",
        "      d = 0\n",
        "    elif B[i] == A[0]:\n",
        "       break\n",
        "\n",
        "  return d\n",
        "\n",
        "\n",
        "A = [ 4, 0, 2, 1, 3 ]\n",
        "B = [1, 3, 4, 0, 2]\n",
        "print(\" Array after left rotation is: \", nb_rotations(A,B)) "
      ],
      "metadata": {
        "colab": {
          "base_uri": "https://localhost:8080/"
        },
        "id": "rHsyv1CHr5n8",
        "outputId": "ba9a694f-36b3-4759-f8fa-05c2cd40dad7"
      },
      "execution_count": null,
      "outputs": [
        {
          "output_type": "stream",
          "name": "stdout",
          "text": [
            " Array after left rotation is:  3\n"
          ]
        }
      ]
    },
    {
      "cell_type": "code",
      "source": [
        "# searchc an integer B in an array A\n",
        "def searchIntger(A,B):\n",
        "  n = len(A)\n",
        "  temp = []\n",
        "  for i in range(n):\n",
        "    if A[i] == B:\n",
        "      temp = i\n",
        "      break\n",
        "    else:\n",
        "      temp = -1 \n",
        "  return temp\n",
        "\n",
        "\n",
        "A = [ 4, 0, 2, 1, 3 ]\n",
        "B = 1\n",
        "print(\" Array after left rotation is: \", searchIntger(A,B)) \n",
        "\n",
        "\n"
      ],
      "metadata": {
        "id": "JNZ4zdprkcbc",
        "outputId": "c0230206-6e67-483e-d759-6efad61c955b",
        "colab": {
          "base_uri": "https://localhost:8080/"
        }
      },
      "execution_count": null,
      "outputs": [
        {
          "output_type": "stream",
          "name": "stdout",
          "text": [
            " Array after left rotation is:  3\n"
          ]
        }
      ]
    },
    {
      "cell_type": "code",
      "source": [
        "# 2D Spiral Array\n",
        "# Example: n=4\n",
        "# 01 02 03 04\n",
        "# 12 13 14 05\n",
        "# 11 16 15 06\n",
        "# 10 09 08 07\n",
        "\n",
        "def spiralArray(n):\n",
        "  matrix = [[0 for colm in range(n)] for row in range(n)]\n",
        "  k1=0\n",
        "  k2=0\n",
        "  r1=0\n",
        "  r2=0\n",
        "  count= 1\n",
        "\n",
        "  while (k1+k2<n and r1+r2<n):\n",
        "    # print the first row  \n",
        "    for i in range(k1,n-k2):\n",
        "      matrix[k1][i] = count\n",
        "      count +=1\n",
        "    r1 +=1  \n",
        "    #print the last column\n",
        "    for j in range(r1,n-r2-1):\n",
        "      matrix[j][n-k2-1]= count\n",
        "      count +=1\n",
        "    k2 +=1\n",
        "    #print the last row \n",
        "    for i in range(n-k2,k1,-1):\n",
        "      matrix[n-r2-1][i]= count\n",
        "      count +=1\n",
        "    r2 +=1\n",
        "    #print the first column\n",
        "    for j in range(n-r2,r1-1,-1):\n",
        "      matrix[j][k1]= count\n",
        "      count +=1\n",
        "    k1 +=1\n",
        "  return matrix\n",
        "\n",
        "\n",
        "\n",
        "\n",
        "\n",
        "my_matrix =spiralArray(10)\n",
        "for i in my_matrix:\n",
        "  print(i, \"\\n\")"
      ],
      "metadata": {
        "id": "gZ0l3V-XqAJ_",
        "outputId": "319b2da5-7031-41c0-ecfe-e06abeeb0635",
        "colab": {
          "base_uri": "https://localhost:8080/"
        }
      },
      "execution_count": 2,
      "outputs": [
        {
          "output_type": "stream",
          "name": "stdout",
          "text": [
            "[1, 2, 3, 4, 5, 6, 7, 8, 9, 10] \n",
            "\n",
            "[36, 37, 38, 39, 40, 41, 42, 43, 44, 11] \n",
            "\n",
            "[35, 64, 65, 66, 67, 68, 69, 70, 45, 12] \n",
            "\n",
            "[34, 63, 84, 85, 86, 87, 88, 71, 46, 13] \n",
            "\n",
            "[33, 62, 83, 96, 97, 98, 89, 72, 47, 14] \n",
            "\n",
            "[32, 61, 82, 95, 100, 99, 90, 73, 48, 15] \n",
            "\n",
            "[31, 60, 81, 94, 93, 92, 91, 74, 49, 16] \n",
            "\n",
            "[30, 59, 80, 79, 78, 77, 76, 75, 50, 17] \n",
            "\n",
            "[29, 58, 57, 56, 55, 54, 53, 52, 51, 18] \n",
            "\n",
            "[28, 27, 26, 25, 24, 23, 22, 21, 20, 19] \n",
            "\n"
          ]
        }
      ]
    },
    {
      "cell_type": "code",
      "source": [
        "# Look and Say\n",
        "# 1\n",
        "# 11\n",
        "# 21\n",
        "# 1211\n",
        "# 111221\n",
        "# 312211\n",
        "# 13112221\n",
        "# 1113213211\n",
        "# 31131211131221\n",
        "# 13211311123113112211\n",
        "\n",
        "def look_and_say(number):\n",
        "  result = \"\"\n",
        "  times= 1\n",
        "  actual=number[0]\n",
        "  number= number[1:]+ \" \"\n",
        "  for item in number:\n",
        "    if item!=actual:\n",
        "      result += str(times)+ actual\n",
        "      times = 1\n",
        "      actual = item \n",
        "    else:\n",
        "      times +=1\n",
        "  return result\n",
        "\n",
        "\n",
        "number = '1'\n",
        "\n",
        "for i in range(10):\n",
        "  print(number)\n",
        "  number= look_and_say(number)\n"
      ],
      "metadata": {
        "id": "8rZtx37498_x",
        "colab": {
          "base_uri": "https://localhost:8080/"
        },
        "outputId": "8e3645a9-12c6-42c8-9355-29611ff23a4b"
      },
      "execution_count": null,
      "outputs": [
        {
          "output_type": "stream",
          "name": "stdout",
          "text": [
            "1\n",
            "11\n",
            "21\n",
            "1211\n",
            "111221\n",
            "312211\n",
            "13112221\n",
            "1113213211\n",
            "31131211131221\n",
            "13211311123113112211\n"
          ]
        }
      ]
    },
    {
      "cell_type": "code",
      "source": [
        "# Edit Distance\n",
        "\n",
        "# Write a function that returns whether two words are exactly \"one edit\" away using the following signature:\n",
        "\n",
        "# bool OneEditApart(string s1, string s2);\n",
        "# An edit is:\n",
        "# Inserting one character anywhere in the word (including at the beginning and end)\n",
        "# Removing one character\n",
        "# Replacing one character\n",
        "\n",
        "# Examples:\n",
        "# OneEditApart(\"cat\", \"dog\") = false\n",
        "# OneEditApart(\"cat\", \"cats\") = true\n",
        "# OneEditApart(\"cat\", \"cut\") = true\n",
        "# OneEditApart(\"cat\", \"cast\") = true\n",
        "# OneEditApart(\"cat\", \"at\") = true\n",
        "# OneEditApart(\"cat\", \"act\") = false\n",
        "\n",
        "def OneEditApart(s1,s2):\n",
        "  m = len(s1)\n",
        "  n = len(s2)\n",
        "\n",
        "  if (abs(m-n)>1):\n",
        "    return False\n",
        "  \n",
        "  edit = 0\n",
        "  i = 0\n",
        "  j = 0\n",
        "  while i<m and j<n:\n",
        "    if s1[i]!=s2[j]:\n",
        "      edit +=1\n",
        "      if edit>1:\n",
        "        return False\n",
        "      if m>n:\n",
        "        i +=1\n",
        "      elif m<n:\n",
        "        j +=1\n",
        "      else:\n",
        "        i+=1\n",
        "        j+=1\n",
        "    else:\n",
        "      i+=1\n",
        "      j+=1\n",
        "  \n",
        "  \n",
        "  if i==m and j==n:\n",
        "    if edit==1:\n",
        "      return True\n",
        "    else:\n",
        "      return False\n",
        "\n",
        "print(OneEditApart(\"cat\", \"cut\"))"
      ],
      "metadata": {
        "id": "TACynW6s-jHC",
        "colab": {
          "base_uri": "https://localhost:8080/"
        },
        "outputId": "d1339f0e-fd60-42a5-c84f-2cb391d2b20f"
      },
      "execution_count": 25,
      "outputs": [
        {
          "output_type": "stream",
          "name": "stdout",
          "text": [
            "True\n"
          ]
        }
      ]
    },
    {
      "cell_type": "markdown",
      "source": [
        "### Linked Lists"
      ],
      "metadata": {
        "id": "8Q_eEouyjq3S"
      }
    },
    {
      "cell_type": "code",
      "source": [
        "# You are given two linked lists representing two non-negative numbers. The digits are stored in reverse order\n",
        "#  and each of their nodes contain a single digit. Add the two numbers and return it as a linked list.\n",
        "# Input: (2 -> 4 -> 3) + (5 -> 6 -> 4)\n",
        "# Output: 7 -> 0 -> 8\n",
        "#     342 + 465 = 807\n",
        "# Make sure there are no trailing zeros in the output list\n",
        "# So, 7 -> 0 -> 8 -> 0 is not a valid response even though the value is still 807.\n",
        "def addTwoNumbers(A, B):\n",
        "  print(A,B)\n",
        "  A= str(A)\n",
        "  B= str(B)\n",
        "  n = len(A)\n",
        "  m = len(B)\n",
        "  New_A=[]\n",
        "  New_B=[]\n",
        "  New_result=[]\n",
        "  for i in range(n-1,-1,-1):\n",
        "    New_A.append(A[i])\n",
        "  str1 = ''.join(str(e) for e in New_A)\n",
        "  for j in range(m-1,-1,-1):\n",
        "    New_B.append(B[j])\n",
        "  str2 = ''.join(str(e) for e in New_B) \n",
        "  result= int(str1) + int(str2)\n",
        "  \n",
        "  print(f'The sum of {int(str1)} + {int(str2)} = {result}')\n",
        "  \n",
        "  result= str(result)\n",
        "  for item in range(len(result)-1,-1,-1):\n",
        "    New_result.append(result[item])\n",
        "\n",
        "  return New_result\n",
        "\n",
        "\n",
        "print(addTwoNumbers(523,278))\n",
        "\n",
        "\n"
      ],
      "metadata": {
        "colab": {
          "base_uri": "https://localhost:8080/"
        },
        "id": "PTdduURRn8jZ",
        "outputId": "573e4e46-490b-4915-dd60-0e13412b7fba"
      },
      "execution_count": 41,
      "outputs": [
        {
          "output_type": "stream",
          "name": "stdout",
          "text": [
            "523 278\n",
            "The sum of 325 + 872 = 1197\n",
            "['7', '9', '1', '1']\n"
          ]
        }
      ]
    },
    {
      "cell_type": "code",
      "source": [
        "class ListNode:\n",
        "    def __init__(self, x):\n",
        "        self.val = x\n",
        "        self.next = None\n",
        "\n",
        "class Solution:\n",
        "    def addTwoNumbers(self, A, B):\n",
        "        a, b = A, B\n",
        "        head = ListNode(0)\n",
        "        cur_sum = head\n",
        "        while a != None or b != None or cur_sum.val > 9:\n",
        "            carry = cur_sum.val / 10\n",
        "            cur_sum.val %= 10\n",
        "            a_val = 0 if a == None else a.val\n",
        "            b_val = 0 if b == None else b.val\n",
        "            next_val = a_val + b_val + carry\n",
        "            cur_sum.next = ListNode(next_val)\n",
        "            cur_sum = cur_sum.next\n",
        "            a = None if a == None else a.next\n",
        "            b = None if b == None else b.next\n",
        "        return head.next\n",
        "\n",
        "\n",
        "# k=Solution()\n",
        "# k.addTwoNumbers(A,B)\n",
        "\n",
        "\n",
        "\n",
        "\n",
        "# class Node:\n",
        "\n",
        "#     def __init__(self, data):\n",
        "#         self.data = data\n",
        "#         self.next = None\n",
        "def addTwoLists(self, first, second):\n",
        "    prev = None\n",
        "    temp = None\n",
        "    carry = 0\n",
        "    while first is not None or second is not None:\n",
        "        if first is None:\n",
        "            firstData = 0\n",
        "        else:\n",
        "            firstData = first.data\n",
        "        if second is None:\n",
        "            secondData = 0\n",
        "        else:\n",
        "            secondData = second.data\n",
        "        Sum = carry\n",
        "        Sum += firstData\n",
        "        Sum += secondData\n",
        "        if Sum >= 10:\n",
        "            carry = 1\n",
        "        else:\n",
        "            carry = 0\n",
        "        Sum %= 10\n",
        "        temp = Node(Sum)\n",
        "        if self.head is None:\n",
        "            self.head = temp\n",
        "        else:\n",
        "            prev.next = temp\n",
        "        prev = temp\n",
        "        if first is not None:\n",
        "            first = first.next\n",
        "        if second is not None:\n",
        "            second = second.next\n",
        "    if carry > 0:\n",
        "        temp.next = Node(carry)"
      ],
      "metadata": {
        "id": "fymaB5kUvqzi"
      },
      "execution_count": 50,
      "outputs": []
    },
    {
      "cell_type": "code",
      "source": [
        "# Reverse a linked list from position m to n. Do it in-place and in one-pass.\n",
        "# For example:\n",
        "# Given 1->2->3->4->5->NULL, m = 2 and n = 4,\n",
        "# return 1->4->3->2->5->NULL.\n",
        "# Note:\n",
        "# Given m, n satisfy the following condition:\n",
        "# 1 ≤ m ≤ n ≤ length of list.\n",
        "# Note 2:\n",
        "# Usually the version often seen in the interviews is reversing the whole linked list which is obviously an easier version of this question.\n",
        "\n",
        "\n",
        "def reverseBetween(A, B, C):\n",
        "\n",
        "\n",
        "  if "
      ],
      "metadata": {
        "colab": {
          "base_uri": "https://localhost:8080/",
          "height": 130
        },
        "id": "B-FSXrIHkLxX",
        "outputId": "6932f0e9-71b4-4f74-8eba-a660adb689db"
      },
      "execution_count": 5,
      "outputs": [
        {
          "output_type": "error",
          "ename": "SyntaxError",
          "evalue": "ignored",
          "traceback": [
            "\u001b[0;36m  File \u001b[0;32m\"<ipython-input-5-cbb077135760>\"\u001b[0;36m, line \u001b[0;32m12\u001b[0m\n\u001b[0;31m    def reverseBetween(A, B, C):\u001b[0m\n\u001b[0m                                ^\u001b[0m\n\u001b[0;31mSyntaxError\u001b[0m\u001b[0;31m:\u001b[0m unexpected EOF while parsing\n"
          ]
        }
      ]
    }
  ]
}