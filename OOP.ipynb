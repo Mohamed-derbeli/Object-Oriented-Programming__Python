{
  "nbformat": 4,
  "nbformat_minor": 0,
  "metadata": {
    "colab": {
      "name": "Class_exercises.ipynb",
      "provenance": [],
      "toc_visible": true,
      "authorship_tag": "ABX9TyNvkr9E8uUzpf/HYbcOL6ay",
      "include_colab_link": true
    },
    "kernelspec": {
      "name": "python3",
      "display_name": "Python 3"
    },
    "language_info": {
      "name": "python"
    }
  },
  "cells": [
    {
      "cell_type": "markdown",
      "metadata": {
        "id": "view-in-github",
        "colab_type": "text"
      },
      "source": [
        "<a href=\"https://colab.research.google.com/github/Mohamed-derbeli/Object-Oriented-Programming__Python/blob/main/OOP.ipynb\" target=\"_parent\"><img src=\"https://colab.research.google.com/assets/colab-badge.svg\" alt=\"Open In Colab\"/></a>"
      ]
    },
    {
      "cell_type": "markdown",
      "source": [
        "### OOP"
      ],
      "metadata": {
        "id": "pmH_IRGQMxZS"
      }
    },
    {
      "cell_type": "code",
      "metadata": {
        "colab": {
          "base_uri": "https://localhost:8080/"
        },
        "id": "2W3dFFmA7Brr",
        "outputId": "1c2391b4-d155-4986-bf9e-6d61f6a43392"
      },
      "source": [
        "class Lunch:\n",
        "    def __init__(self,menu):\n",
        "        self.menu=menu\n",
        "    def menu_price(self):\n",
        "        if self.menu == \"menu 1\":\n",
        "            print(\"your choice: \", self.menu, \"Price 12.00\")\n",
        "        elif self.menu == \"menu 2\":\n",
        "            print(\"your choice,\", self.menu,\"Price 13.40\" )\n",
        "        else:\n",
        "            print(\"Error in menu\")\n",
        "\n",
        "Reuslt=Lunch(\"menu 2\")\n",
        "print(Reuslt.menu_price())"
      ],
      "execution_count": null,
      "outputs": [
        {
          "output_type": "stream",
          "name": "stdout",
          "text": [
            "your choice, menu 2 Price 13.40\n",
            "None\n"
          ]
        }
      ]
    },
    {
      "cell_type": "code",
      "metadata": {
        "colab": {
          "base_uri": "https://localhost:8080/"
        },
        "id": "RtZZph1-_Kbz",
        "outputId": "a8246cf3-be0c-41db-af4a-7840f84c9410"
      },
      "source": [
        "class Point3D:\n",
        "    def __init__(self,x,y,z):\n",
        "        self.x=x\n",
        "        self.y=y\n",
        "        self.z=z\n",
        "    def __repr__(self):\n",
        "        return (self.x, self.y, self.z)\n",
        "\n",
        "my_point=Point3D(1,2,3)\n",
        "print (my_point.__repr__())"
      ],
      "execution_count": null,
      "outputs": [
        {
          "output_type": "stream",
          "name": "stdout",
          "text": [
            "(1, 2, 3)\n"
          ]
        }
      ]
    },
    {
      "cell_type": "code",
      "metadata": {
        "colab": {
          "base_uri": "https://localhost:8080/"
        },
        "id": "RRnAPyNH_KTP",
        "outputId": "51c08616-6422-46b8-9abd-621e2b45c3cb"
      },
      "source": [
        "class songs:\n",
        "    def __init__(self, lyrics):\n",
        "        self.lyrics=lyrics\n",
        "    def sing_me_a_song(self):\n",
        "        for element in self.lyrics:\n",
        "            print(element)\n",
        "\n",
        "\n",
        "each_element=songs(\"Mohamed\")\n",
        "happy_bday=songs([\"may god bless you,\",\n",
        "                  \"have a sunshine on you,\",\n",
        "                  \"happy birthday to yoiu!\"])\n",
        "print(each_element.sing_me_a_song())\n",
        "print(happy_bday.sing_me_a_song())\n",
        "#print(each_element.lyrics)"
      ],
      "execution_count": null,
      "outputs": [
        {
          "output_type": "stream",
          "name": "stdout",
          "text": [
            "M\n",
            "o\n",
            "h\n",
            "a\n",
            "m\n",
            "e\n",
            "d\n",
            "None\n",
            "may god bless you,\n",
            "have a sunshine on you,\n",
            "happy birthday to yoiu!\n",
            "None\n"
          ]
        }
      ]
    },
    {
      "cell_type": "code",
      "metadata": {
        "colab": {
          "base_uri": "https://localhost:8080/"
        },
        "id": "jo0UCT8d_KEL",
        "outputId": "7427011c-485c-4a84-8da9-3763ce09f369"
      },
      "source": [
        "class triangle:\n",
        "    def __init__(self,angle1, angle2, angle3):\n",
        "        self.angle1=angle1\n",
        "        self.angle2=angle2\n",
        "        self.angle3=angle3\n",
        "        self.number_of_sides=3\n",
        "\n",
        "    def check_angles(self):\n",
        "        result=\" \"\n",
        "        sum=self.angle1 + self.angle2 + self.angle3\n",
        "        if  sum== 180:\n",
        "            result= True\n",
        "        else:\n",
        "            result= False\n",
        "        return result\n",
        "\n",
        "my_triangle=triangle(50,110,20)\n",
        "print(my_triangle.number_of_sides)\n",
        "print(my_triangle.check_angles())"
      ],
      "execution_count": null,
      "outputs": [
        {
          "output_type": "stream",
          "name": "stdout",
          "text": [
            "3\n",
            "True\n"
          ]
        }
      ]
    },
    {
      "cell_type": "code",
      "source": [
        "class Question:\n",
        "  def __init__( self, prompt, answer):\n",
        "    self.prompt = prompt\n",
        "    self.answer= answer\n",
        "\n",
        "\n",
        "question_prompts= [\n",
        "                  \"What color are apples? \\n(a) Red/Green \\n (b) Purple \\n (c) Orange \\n \\n  \",\n",
        "                  \"What color are Banana? \\n(a) Teal \\n (b) Magenta \\n (c) Yellow \\n \\n  \",\n",
        "                  \"What color are Limon? \\n(a) Green \\n (b) Yellow \\n (c) Blue \\n \\n  \"\n",
        "]\n",
        "\n",
        "\n",
        "questions = [\n",
        "            Question(question_prompts[0], \"a\"),\n",
        "            Question(question_prompts[1], \"c\"),\n",
        "            Question(question_prompts[2], \"b\"), \n",
        "]\n",
        "\n",
        "\n",
        "def run_test(questions):\n",
        "  score=0\n",
        "  for question in questions:\n",
        "    answer = input(question.prompta) \n",
        "    if answer== question.answer:\n",
        "      score += 1\n",
        "  print(\"You got \" + str(score) + \"/\" + str(len(questions)) + \" acorrect\")\n",
        "\n",
        "\n",
        "run_test(questions)"
      ],
      "metadata": {
        "colab": {
          "base_uri": "https://localhost:8080/"
        },
        "id": "CqfBWh9aTAq_",
        "outputId": "ac144114-4416-4b0d-d586-fd123d68a1bf"
      },
      "execution_count": null,
      "outputs": [
        {
          "output_type": "stream",
          "name": "stdout",
          "text": [
            "What color are apples? \n",
            "(a) Red/Green \n",
            " (b) Purple \n",
            " (c) Orange \n",
            " \n",
            "  a\n",
            "What color are Banana? \n",
            "(a) Teal \n",
            " (b) Magenta \n",
            " (c) Yellow \n",
            " \n",
            "  a\n",
            "What color are Limon? \n",
            "(a) Green \n",
            " (b) Yellow \n",
            " (c) Blue \n",
            " \n",
            "  a\n",
            "You got 1/3 acorrect\n"
          ]
        }
      ]
    },
    {
      "cell_type": "code",
      "source": [
        "class student:\n",
        "  def __init__(self, name, major, gpa):\n",
        "    self.name= name\n",
        "    self.major= major\n",
        "    self.gpa= gpa\n",
        "\n",
        "\n",
        "  def on_honor_roll(self):\n",
        "    if self.gpa >= 3.5:\n",
        "      return True\n",
        "    else:\n",
        "      return False\n",
        "\n",
        "\n",
        "student1= student(\"oscar\", \"Accounting\", 3.2)\n",
        "student2= student(\"Alex\", \"Buisness\", 3.9)\n",
        "\n",
        "\n",
        "print(student1.on_honor_roll())\n",
        "print(student2.on_honor_roll())"
      ],
      "metadata": {
        "colab": {
          "base_uri": "https://localhost:8080/"
        },
        "id": "ElffNCJMZ81Z",
        "outputId": "8040a42d-56cc-45a2-beca-8576ace67860"
      },
      "execution_count": null,
      "outputs": [
        {
          "output_type": "stream",
          "name": "stdout",
          "text": [
            "False\n",
            "True\n"
          ]
        }
      ]
    },
    {
      "cell_type": "markdown",
      "source": [
        "### Inheritance"
      ],
      "metadata": {
        "id": "ODMfspfvdTNI"
      }
    },
    {
      "cell_type": "code",
      "source": [
        "class chef1:\n",
        "  def make_chicken(self):\n",
        "    print(\"The chef makes a chicken\")\n",
        "  def make_pizza(self):\n",
        "    print(\"The chef makes a pizza\")\n",
        "\n",
        "class chef2:\n",
        "  def make_salad(self):\n",
        "    print(\"The chef makes a salad\")\n",
        "  def make_fried_rice(self):\n",
        "    print(\"The chef makes a fried rice\")\n",
        "\n",
        "class general_chef(chef1,chef2):  # inheritence is the process of using functions of other classes\n",
        "  def make_special_dish(self):\n",
        "    print(\"The chef makes a special dish\")\n",
        "\n",
        "mychef=general_chef()\n",
        "\n",
        "mychef.make_pizza()\n",
        "mychef.make_fried_rice()"
      ],
      "metadata": {
        "colab": {
          "base_uri": "https://localhost:8080/"
        },
        "id": "mzq87XHHdRRw",
        "outputId": "2271911a-8914-4c65-f2c7-d1450410ae4c"
      },
      "execution_count": null,
      "outputs": [
        {
          "output_type": "stream",
          "name": "stdout",
          "text": [
            "The chef makes a pizza\n",
            "The chef makes a fried rice\n"
          ]
        }
      ]
    },
    {
      "cell_type": "code",
      "source": [
        "# Create a child class Bus that will inherit all of the variables and methods of the Vehicle class\n",
        "# Vehicle Name: School Volvo Speed: 180 Mileage: 12\n",
        "\n",
        "class Vehicle:\n",
        "    color= 'White'\n",
        "    def __init__(self, max_speed, mileage):\n",
        "        self.max_speed = max_speed\n",
        "        self.mileage = mileage\n",
        "    \n",
        "class bus(Vehicle):\n",
        "    def __init__(self):\n",
        "        Vehicle.__init__(self, 180, 12)\n",
        "    \n",
        "    def _Name_(self, name):\n",
        "        self.name= name\n",
        "    \n",
        "    def seating_capacity(self, capacity):\n",
        "      self.capacity = capacity\n",
        "      return f'The seating capacity of a {self.name} is {capacity} passengers'\n",
        "\n",
        "class car(Vehicle):\n",
        "    pass\n",
        "    \n",
        "school_bus= bus()\n",
        "\n",
        "school_bus._Name_('School Volvo')\n",
        "print(\"Color: \", school_bus.color, \", Vehicle Name: \", school_bus.name,\", speed: \", school_bus.max_speed, \", Mileage: \", school_bus.mileage)\n",
        "print(school_bus.seating_capacity(50))\n",
        "\n",
        "\n",
        "mycar= car(120,12)\n",
        "print(\"Color: \", mycar.color, \", speed: \", mycar.max_speed, \", Mileage: \", mycar.mileage)\n"
      ],
      "metadata": {
        "colab": {
          "base_uri": "https://localhost:8080/"
        },
        "id": "c7juTugmz2m9",
        "outputId": "4f5b0f65-76ee-486d-a51e-36f90b556e2f"
      },
      "execution_count": null,
      "outputs": [
        {
          "output_type": "stream",
          "name": "stdout",
          "text": [
            "Color:  White , Vehicle Name:  School Volvo , speed:  180 , Mileage:  12\n",
            "The seating capacity of a School Volvo is 50 passengers\n",
            "Color:  White , speed:  120 , Mileage:  12\n"
          ]
        }
      ]
    },
    {
      "cell_type": "code",
      "source": [
        "# Rotate an image/marix by 90 degrees (clockwise).\n",
        "import numpy as np\n",
        "\n",
        "def rotate(A):\n",
        "  n=len(A)\n",
        "  B=np.zeros((n,n))\n",
        "  for i in range(n):\n",
        "      for j in range(n):\n",
        "        B[i][j]=A[n-j-1][i]\n",
        "  return B\n",
        "\n",
        "A=[[1, 2, 3],\n",
        "   [4, 5, 6],\n",
        "   [7, 8,9]]\n",
        "med=rotate(A)\n",
        "print(A,\"\\n\",med)"
      ],
      "metadata": {
        "colab": {
          "base_uri": "https://localhost:8080/"
        },
        "id": "joD7alvjET63",
        "outputId": "2e9c53dc-67c0-4f07-c268-1675339ba8cb"
      },
      "execution_count": null,
      "outputs": [
        {
          "output_type": "stream",
          "name": "stdout",
          "text": [
            "[[1, 2, 3], [4, 5, 6], [7, 8, 9]] \n",
            " [[7. 4. 1.]\n",
            " [8. 5. 2.]\n",
            " [9. 6. 3.]]\n"
          ]
        }
      ]
    },
    {
      "cell_type": "code",
      "source": [
        "def maxSubArray(A):\n",
        "    n = len(A)\n",
        "    maximum=0\n",
        "    for i in range(n):\n",
        "        new_max1 =A[i]\n",
        "        new_max2 =A[n-i-1]\n",
        "        for j in range(i+1,n):\n",
        "            new_max1 +=A[j]\n",
        "            new_max2 +=A[n-j-1]\n",
        "            new_max = max(new_max1,new_max2)\n",
        "        if maximum<new_max:\n",
        "            maximum=new_max          \n",
        "    return maximum\n",
        "\n",
        "\n",
        "A = [-2, 1, -3, 4, -1, 2, 1, -5, 4]\n",
        "   \n",
        "med=maxSubArray(A)\n",
        "print(A,\"\\n\",med)"
      ],
      "metadata": {
        "colab": {
          "base_uri": "https://localhost:8080/"
        },
        "id": "D2gFXzVaEhhx",
        "outputId": "d6b8d350-3c0f-4c6b-cf08-c9e588ac7687"
      },
      "execution_count": null,
      "outputs": [
        {
          "output_type": "stream",
          "name": "stdout",
          "text": [
            "[-2, 1, -3, 4, -1, 2, 1, -5, 4] \n",
            " 5\n"
          ]
        }
      ]
    },
    {
      "cell_type": "code",
      "source": [
        "# if one element in a matrix equal to zero, then replace the whole row and columns of that element to zeros\n",
        "import numpy as np\n",
        "\n",
        "\n",
        "A=[[1, 0, 1,0],\n",
        "   [1, 1, 1,1],\n",
        "   [1, 1, 1,1]]\n",
        "\n",
        "def column_zero(A, j):\n",
        "  A1= []\n",
        "  for rwo in A:\n",
        "    rwo[j]= 0\n",
        "    A1.append(rwo)\n",
        "  return A1\n",
        "\n",
        "\n",
        "def setZeroes(A):\n",
        "    M=len(A)\n",
        "    N = len(A[0])\n",
        "    A2=np.ones((M,N),dtype=int)\n",
        "    for i in range(M):\n",
        "        for j in range(N):\n",
        "            if A[i][j]==0:\n",
        "                A2= column_zero(A2,j)\n",
        "                A2[i][:]= 0\n",
        "    return A2\n",
        "\n",
        "\n",
        "\n",
        "output = setZeroes(A)\n",
        "output"
      ],
      "metadata": {
        "id": "NqyyCKO8NttV",
        "outputId": "dc8048a6-4e2b-44c5-9873-1ac69e813834",
        "colab": {
          "base_uri": "https://localhost:8080/"
        }
      },
      "execution_count": null,
      "outputs": [
        {
          "output_type": "execute_result",
          "data": {
            "text/plain": [
              "[array([0, 0, 0, 0]), array([1, 0, 1, 0]), array([1, 0, 1, 0])]"
            ]
          },
          "metadata": {},
          "execution_count": 56
        }
      ]
    },
    {
      "cell_type": "markdown",
      "source": [
        "### Math"
      ],
      "metadata": {
        "id": "WDkk9T_LsS4O"
      }
    },
    {
      "cell_type": "code",
      "source": [
        "# Rearrange a given array so that Arr[i] becomes Arr[Arr[i]] with O(1) extra space.\n",
        "def arrange( A):\n",
        "    B=[]\n",
        "    for i in range(len(A)):\n",
        "        B.append(A[A[i]])\n",
        "    return B\n",
        "\n",
        "A = [ 4, 0, 2, 1, 3 ]\n",
        "\n",
        "print(arrange(A))"
      ],
      "metadata": {
        "id": "fMW6KGfmOC5t",
        "outputId": "ac46f3a4-a5aa-49f3-d2af-c7ceca5866af",
        "colab": {
          "base_uri": "https://localhost:8080/"
        }
      },
      "execution_count": null,
      "outputs": [
        {
          "output_type": "stream",
          "name": "stdout",
          "text": [
            "[3, 4, 2, 0, 1]\n"
          ]
        }
      ]
    },
    {
      "cell_type": "code",
      "source": [
        "# Given an integer n\n",
        "# The first fibonacci number F1 = 1\n",
        "# The second fibonacci number F2 = 1\n",
        "# The n^th fibonacci number Fn = Fn-1 + Fn-2 (n > 2)\n",
        "\n",
        "\n",
        "def solve(A):\n",
        "    F=[]\n",
        "    for i in range(A):\n",
        "        if i < 2:\n",
        "            F.append(1)\n",
        "            print(F)\n",
        "        else:\n",
        "            F.append(F[i-1]+F[i-2])\n",
        "            print(F)\n",
        "    return F[A-1]\n",
        "\n",
        "print(solve(10))"
      ],
      "metadata": {
        "id": "NcO1COyTS6tA",
        "outputId": "412a5fe3-413a-4fbe-cf3b-279a78bb40e3",
        "colab": {
          "base_uri": "https://localhost:8080/"
        }
      },
      "execution_count": null,
      "outputs": [
        {
          "output_type": "stream",
          "name": "stdout",
          "text": [
            "[1]\n",
            "[1, 1]\n",
            "[1, 1, 2]\n",
            "[1, 1, 2, 3]\n",
            "[1, 1, 2, 3, 5]\n",
            "[1, 1, 2, 3, 5, 8]\n",
            "[1, 1, 2, 3, 5, 8, 13]\n",
            "[1, 1, 2, 3, 5, 8, 13, 21]\n",
            "[1, 1, 2, 3, 5, 8, 13, 21, 34]\n",
            "[1, 1, 2, 3, 5, 8, 13, 21, 34, 55]\n",
            "55\n"
          ]
        }
      ]
    },
    {
      "cell_type": "markdown",
      "source": [
        "### Binary Search"
      ],
      "metadata": {
        "id": "9Fg-OtGEsEU1"
      }
    },
    {
      "cell_type": "code",
      "source": [
        "def sqrt(A):\n",
        "  if A<0:\n",
        "    return\n",
        "  else:\n",
        "    return int(A**(0.5))\n",
        "\n",
        "print(sqrt(11)) "
      ],
      "metadata": {
        "id": "Gv9ZdxpIYVLN",
        "outputId": "f25ed09b-a6ba-401d-b09e-d3114f699688",
        "colab": {
          "base_uri": "https://localhost:8080/"
        }
      },
      "execution_count": null,
      "outputs": [
        {
          "output_type": "stream",
          "name": "stdout",
          "text": [
            "3\n"
          ]
        }
      ]
    },
    {
      "cell_type": "code",
      "source": [
        "# Array rotation\n",
        "\n",
        "def rotateArray1(A,d):\n",
        "  n = len(A)\n",
        "  A1 = []\n",
        "  A2 = A\n",
        "  for i in range(d,n):\n",
        "    A1.append(A[i])\n",
        "  \n",
        "  i = 0\n",
        "  for i in range(d):\n",
        "    A1.append(A[i])\n",
        "  return A1\n",
        "A = [ 4, 0, 2, 1, 3 ]\n",
        "print(\" Array after left rotation is: \", rotateArray1(A,2))\n",
        "\n",
        "\n",
        "#____second method___\n",
        "def rotateArray2(A,d):\n",
        "  n = len(A)\n",
        "  A[:] = A[d:n] + A[0:d]\n",
        "  return A\n",
        "A = [ 4, 0, 2, 1, 3 ]\n",
        "print(\" Array after left rotation is: \", rotateArray2(A,3)) "
      ],
      "metadata": {
        "colab": {
          "base_uri": "https://localhost:8080/"
        },
        "id": "Zqnrbcq3je9N",
        "outputId": "fdd7ea76-d62d-4306-d8b3-f01ccea29c1e"
      },
      "execution_count": null,
      "outputs": [
        {
          "output_type": "stream",
          "name": "stdout",
          "text": [
            " Array after left rotation is:  [2, 1, 3, 4, 0]\n",
            " Array after left rotation is:  [1, 3, 4, 0, 2]\n"
          ]
        }
      ]
    },
    {
      "cell_type": "code",
      "source": [
        "# Calculate number of rotations\n",
        "\n",
        "def nb_rotations(A,B):\n",
        "  n = len(A)\n",
        "  d=1\n",
        "  for i in range(n-1,-1,-1):\n",
        "    if B[i] != A[0]:\n",
        "      d +=1\n",
        "    elif B[i] == A[0] and i == 0:\n",
        "      d = 0\n",
        "    elif B[i] == A[0]:\n",
        "       break\n",
        "\n",
        "  return d\n",
        "\n",
        "\n",
        "A = [ 4, 0, 2, 1, 3 ]\n",
        "B = [1, 3, 4, 0, 2]\n",
        "print(\" Array after left rotation is: \", nb_rotations(A,B)) "
      ],
      "metadata": {
        "colab": {
          "base_uri": "https://localhost:8080/"
        },
        "id": "rHsyv1CHr5n8",
        "outputId": "ba9a694f-36b3-4759-f8fa-05c2cd40dad7"
      },
      "execution_count": null,
      "outputs": [
        {
          "output_type": "stream",
          "name": "stdout",
          "text": [
            " Array after left rotation is:  3\n"
          ]
        }
      ]
    },
    {
      "cell_type": "code",
      "source": [
        "# searchc an integer B in an array A\n",
        "def searchIntger(A,B):\n",
        "  n = len(A)\n",
        "  temp = []\n",
        "  for i in range(n):\n",
        "    if A[i] == B:\n",
        "      temp = i\n",
        "      break\n",
        "    else:\n",
        "      temp = -1 \n",
        "  return temp\n",
        "\n",
        "\n",
        "A = [ 4, 0, 2, 1, 3 ]\n",
        "B = 1\n",
        "print(\" Array after left rotation is: \", searchIntger(A,B)) \n",
        "\n",
        "\n"
      ],
      "metadata": {
        "id": "JNZ4zdprkcbc",
        "outputId": "c0230206-6e67-483e-d759-6efad61c955b",
        "colab": {
          "base_uri": "https://localhost:8080/"
        }
      },
      "execution_count": null,
      "outputs": [
        {
          "output_type": "stream",
          "name": "stdout",
          "text": [
            " Array after left rotation is:  3\n"
          ]
        }
      ]
    },
    {
      "cell_type": "code",
      "source": [
        "# 2D Spiral Array\n",
        "# Example: n=4\n",
        "# 01 02 03 04\n",
        "# 12 13 14 05\n",
        "# 11 16 15 06\n",
        "# 10 09 08 07\n",
        "\n",
        "def spiralArray(n):\n",
        "  matrix = [[0 for colm in range(n)] for row in range(n)]\n",
        "  k1=0\n",
        "  k2=0\n",
        "  r1=0\n",
        "  r2=0\n",
        "  count= 1\n",
        "\n",
        "  while (k1+k2<n and r1+r2<n):\n",
        "    # print the first row  \n",
        "    for i in range(k1,n-k2):\n",
        "      matrix[k1][i] = count\n",
        "      count +=1\n",
        "    r1 +=1  \n",
        "    #print the last column\n",
        "    for j in range(r1,n-r2-1):\n",
        "      matrix[j][n-k2-1]= count\n",
        "      count +=1\n",
        "    k2 +=1\n",
        "    #print the last row \n",
        "    for i in range(n-k2,k1,-1):\n",
        "      matrix[n-r2-1][i]= count\n",
        "      count +=1\n",
        "    r2 +=1\n",
        "    #print the first column\n",
        "    for j in range(n-r2,r1-1,-1):\n",
        "      matrix[j][k1]= count\n",
        "      count +=1\n",
        "    k1 +=1\n",
        "  return matrix\n",
        "\n",
        "\n",
        "\n",
        "\n",
        "\n",
        "my_matrix =spiralArray(10)\n",
        "for i in my_matrix:\n",
        "  print(i, \"\\n\")"
      ],
      "metadata": {
        "id": "gZ0l3V-XqAJ_",
        "outputId": "319b2da5-7031-41c0-ecfe-e06abeeb0635",
        "colab": {
          "base_uri": "https://localhost:8080/"
        }
      },
      "execution_count": null,
      "outputs": [
        {
          "output_type": "stream",
          "name": "stdout",
          "text": [
            "[1, 2, 3, 4, 5, 6, 7, 8, 9, 10] \n",
            "\n",
            "[36, 37, 38, 39, 40, 41, 42, 43, 44, 11] \n",
            "\n",
            "[35, 64, 65, 66, 67, 68, 69, 70, 45, 12] \n",
            "\n",
            "[34, 63, 84, 85, 86, 87, 88, 71, 46, 13] \n",
            "\n",
            "[33, 62, 83, 96, 97, 98, 89, 72, 47, 14] \n",
            "\n",
            "[32, 61, 82, 95, 100, 99, 90, 73, 48, 15] \n",
            "\n",
            "[31, 60, 81, 94, 93, 92, 91, 74, 49, 16] \n",
            "\n",
            "[30, 59, 80, 79, 78, 77, 76, 75, 50, 17] \n",
            "\n",
            "[29, 58, 57, 56, 55, 54, 53, 52, 51, 18] \n",
            "\n",
            "[28, 27, 26, 25, 24, 23, 22, 21, 20, 19] \n",
            "\n"
          ]
        }
      ]
    },
    {
      "cell_type": "code",
      "source": [
        "# Look and Say\n",
        "# 1\n",
        "# 11\n",
        "# 21\n",
        "# 1211\n",
        "# 111221\n",
        "# 312211\n",
        "# 13112221\n",
        "# 1113213211\n",
        "# 31131211131221\n",
        "# 13211311123113112211\n",
        "\n",
        "def look_and_say(number):\n",
        "  result = \"\"\n",
        "  times= 1\n",
        "  actual=number[0]\n",
        "  number= number[1:]+ \" \"\n",
        "  for item in number:\n",
        "    if item!=actual:\n",
        "      result += str(times)+ actual\n",
        "      times = 1\n",
        "      actual = item \n",
        "    else:\n",
        "      times +=1\n",
        "  return result\n",
        "\n",
        "\n",
        "number = '1'\n",
        "\n",
        "for i in range(10):\n",
        "  print(number)\n",
        "  number= look_and_say(number)\n"
      ],
      "metadata": {
        "id": "8rZtx37498_x",
        "colab": {
          "base_uri": "https://localhost:8080/"
        },
        "outputId": "8e3645a9-12c6-42c8-9355-29611ff23a4b"
      },
      "execution_count": null,
      "outputs": [
        {
          "output_type": "stream",
          "name": "stdout",
          "text": [
            "1\n",
            "11\n",
            "21\n",
            "1211\n",
            "111221\n",
            "312211\n",
            "13112221\n",
            "1113213211\n",
            "31131211131221\n",
            "13211311123113112211\n"
          ]
        }
      ]
    },
    {
      "cell_type": "code",
      "source": [
        "# Edit Distance\n",
        "\n",
        "# Write a function that returns whether two words are exactly \"one edit\" away using the following signature:\n",
        "\n",
        "# bool OneEditApart(string s1, string s2);\n",
        "# An edit is:\n",
        "# Inserting one character anywhere in the word (including at the beginning and end)\n",
        "# Removing one character\n",
        "# Replacing one character\n",
        "\n",
        "# Examples:\n",
        "# OneEditApart(\"cat\", \"dog\") = false\n",
        "# OneEditApart(\"cat\", \"cats\") = true\n",
        "# OneEditApart(\"cat\", \"cut\") = true\n",
        "# OneEditApart(\"cat\", \"cast\") = true\n",
        "# OneEditApart(\"cat\", \"at\") = true\n",
        "# OneEditApart(\"cat\", \"act\") = false\n",
        "\n",
        "def OneEditApart(s1,s2):\n",
        "  m = len(s1)\n",
        "  n = len(s2)\n",
        "\n",
        "  if (abs(m-n)>1):\n",
        "    return False\n",
        "  \n",
        "  edit = 0\n",
        "  i = 0\n",
        "  j = 0\n",
        "  while i<m and j<n:\n",
        "    if s1[i]!=s2[j]:\n",
        "      edit +=1\n",
        "      if edit>1:\n",
        "        return False\n",
        "      if m>n:\n",
        "        i +=1\n",
        "      elif m<n:\n",
        "        j +=1\n",
        "      else:\n",
        "        i+=1\n",
        "        j+=1\n",
        "    else:\n",
        "      i+=1\n",
        "      j+=1\n",
        "  \n",
        "  \n",
        "  if i==m and j==n:\n",
        "    if edit==1:\n",
        "      return True\n",
        "    else:\n",
        "      return False\n",
        "\n",
        "print(OneEditApart(\"cat\", \"cut\"))"
      ],
      "metadata": {
        "id": "TACynW6s-jHC",
        "colab": {
          "base_uri": "https://localhost:8080/"
        },
        "outputId": "d1339f0e-fd60-42a5-c84f-2cb391d2b20f"
      },
      "execution_count": null,
      "outputs": [
        {
          "output_type": "stream",
          "name": "stdout",
          "text": [
            "True\n"
          ]
        }
      ]
    },
    {
      "cell_type": "markdown",
      "source": [
        "### Linked Lists\n",
        "\n",
        "Create, append, search, delete, display"
      ],
      "metadata": {
        "id": "8Q_eEouyjq3S"
      }
    },
    {
      "cell_type": "code",
      "source": [
        "class Node:\n",
        "  def __init__(self,data=None):\n",
        "    self.data= data\n",
        "    self.next= None\n",
        "\n",
        "\n",
        "class linkedlist:\n",
        "  def __init__(self):\n",
        "    self.head= Node()\n",
        "\n",
        "  def length(self):\n",
        "    cur_node = self.head\n",
        "    total = 0\n",
        "    while cur_node.next != None:\n",
        "      total +=1\n",
        "      cur_node = cur_node.next\n",
        "    return total\n",
        "  \n",
        "  def display(self):\n",
        "    cur_node= self.head\n",
        "    elements= []\n",
        "    while cur_node.next != None:     \n",
        "      cur_node=cur_node.next\n",
        "      elements.append(cur_node.data)\n",
        "    print(elements)\n",
        "\n",
        "  def delete(self,index):\n",
        "    cur_node = self.head \n",
        "    count=0\n",
        "    while cur_node.next != None:\n",
        "      prev= cur_node\n",
        "      cur_node = cur_node.next\n",
        "      count +=1\n",
        "      if count== index:\n",
        "        prev.next=cur_node.next\n",
        "        return    \n",
        "    if cur_node.next== None:\n",
        "      return f'Index out of range'\n",
        "\n",
        "  def get(self,index):\n",
        "    cur_node= self.head\n",
        "    if index > self.length():\n",
        "      return f'index out of the range'\n",
        "    else:\n",
        "      cur_index=1\n",
        "      while cur_node.next!= None:\n",
        "        cur_node=cur_node.next\n",
        "        if cur_index==index:\n",
        "          return cur_node.data\n",
        "        else:\n",
        "          cur_index +=1\n",
        "  \n",
        "  def search(self, nodedata):\n",
        "    cur_node=self.head\n",
        "    result = False\n",
        "    while cur_node.next != None:\n",
        "      cur_node= cur_node.next\n",
        "      if cur_node.data == nodedata:\n",
        "        result = True    \n",
        "    return result\n",
        "\n",
        "  def convert(self,data):\n",
        "    cur_node=self.head\n",
        "    for digit in str(data):\n",
        "      new_node = Node(int(digit))\n",
        "      while cur_node.next!= None:\n",
        "        cur_node=cur_node.next\n",
        "      cur_node.next= new_node\n",
        "\n",
        "  def insert_at_the_begining(self,data):\n",
        "    new_node= Node(data)\n",
        "    new_node.next=self.head.next\n",
        "    self.head.next=new_node\n",
        "\n",
        "  def append(self,data): #insert_at_the_end\n",
        "    cur_node=self.head\n",
        "    new_node= Node(data)\n",
        "    while cur_node.next!= None:\n",
        "      cur_node=cur_node.next\n",
        "    cur_node.next= new_node\n",
        "\n",
        "  def insert_in_the_middle(self,index,data):\n",
        "    cur_node=self.head\n",
        "    new_node=Node(data)\n",
        "    count=1\n",
        "    while cur_node.next is not None:\n",
        "      if count==index:\n",
        "        new_node.next=cur_node.next\n",
        "        cur_node.next=new_node\n",
        "      cur_node=cur_node.next\n",
        "      count +=1\n",
        "\n",
        "  def add_tow_numbers(self, list1, list2):\n",
        "    curr1= list1.head\n",
        "    curr2=list2.head\n",
        "    curr3=linkedlist()\n",
        "    carry=0\n",
        "    sum=0\n",
        "    while curr1.next is not None or curr2.next is not None or carry>0:  \n",
        "      if curr1.next is None:\n",
        "        firstdata= 0\n",
        "      else:\n",
        "        curr1=curr1.next\n",
        "        firstdata= curr1.data\n",
        "      if curr2.next is None:\n",
        "        seconddata= 0\n",
        "      else:\n",
        "        curr2=curr2.next\n",
        "        seconddata= curr2.data\n",
        "      sum =carry + firstdata + seconddata\n",
        "      if sum>9:\n",
        "        carry=1 \n",
        "      else:\n",
        "        carry= 0\n",
        "      item= sum % 10\n",
        "      curr3.append(item)\n",
        "      # curr3.display()\n",
        "    curr3.display()\n",
        "\n",
        "\n",
        "  def reverse_two_nodes(self,list3, index1, index2):\n",
        "    current=list3.head\n",
        "    rev_list=list3\n",
        "    length= 0\n",
        "    while current.next!=None:\n",
        "      current= current.next\n",
        "      length +=1\n",
        "    if index2 > length:\n",
        "      return f\"ERROR: index2 must be less than length of the linkedList\"\n",
        "    elif index1>index2:\n",
        "      return f\"ERROR: index1 must be less than n\"\n",
        "    elif index1<1:\n",
        "      return f\"ERROR: index1 must be equal or greater than 1\"\n",
        "    else:\n",
        "      cell_data1=list3.get(index1)\n",
        "      cell_data2=list3.get(index2)\n",
        "      list3.insert_in_the_middle(index1,cell_data2)\n",
        "      list3.delete(index1+1)\n",
        "      list3.insert_in_the_middle(index2,cell_data1)\n",
        "      list3.delete(index2+1)\n",
        "      return list3.display()\n",
        "      # return list3\n",
        "# Write a code to remove duplicate values from an unsorted linked list. \n",
        "# Write a code to reverse a linked list\n",
        "  \n",
        "\n",
        "\n",
        "\n",
        "#Outputs\n",
        "myList= linkedlist()\n",
        "myList.append(0)\n",
        "myList.append(5)\n",
        "myList.append(10)\n",
        "myList.append(15)\n",
        "myList.insert_at_the_begining(-1)\n",
        "myList.insert_in_the_middle(1,100)\n",
        "myList.display()\n",
        "print(\"The length of my list is: \", myList.length())\n",
        "print(\"The forth index of my list is: \", myList.get(4))\n",
        "print(\"Is the value 20 exists in my list? \", myList.search(20))\n",
        "print(\"Delete the node which has the value 10: \")\n",
        "myList.delete(10)\n",
        "myList.display()\n",
        "print(\"Delete the node which has the index 5: \")\n",
        "myList.delete(5)\n",
        "myList.display()\n",
        "\n",
        "print(\"\\nInputs: list1 and list2\")\n",
        "list1=linkedlist()\n",
        "list1.convert(1234)\n",
        "list1.display()\n",
        "list2=linkedlist()\n",
        "list2.convert(12345)\n",
        "list2.display()\n",
        "s=linkedlist()\n",
        "print(\"The sum of the two lists is: \")\n",
        "s.add_tow_numbers(list1, list2)\n",
        "\n",
        "S1=linkedlist()\n",
        "print(\"Revers the node 1 and 3 of list1:\")\n",
        "S1.reverse_two_nodes(list1,1,3)\n",
        "\n",
        "\n"
      ],
      "metadata": {
        "colab": {
          "base_uri": "https://localhost:8080/"
        },
        "id": "4BGcxX-5D18h",
        "outputId": "0f30d05b-ac5e-4698-d4ce-0007e1e8a21a"
      },
      "execution_count": null,
      "outputs": [
        {
          "output_type": "stream",
          "name": "stdout",
          "text": [
            "[100, -1, 0, 5, 10, 15]\n",
            "The length of my list is:  6\n",
            "The forth index of my list is:  5\n",
            "Is the value 20 exists in my list?  False\n",
            "Delete the node which has the value 10: \n",
            "[100, -1, 0, 5, 10, 15]\n",
            "Delete the node which has the index 5: \n",
            "[100, -1, 0, 5, 15]\n",
            "\n",
            "Inputs: list1 and list2\n",
            "[1, 2, 3, 4]\n",
            "[1, 2, 3, 4, 5]\n",
            "The sum of the two lists is: \n",
            "[2, 4, 6, 8, 5]\n",
            "Revers the node 1 and 3 of list1:\n",
            "[3, 2, 1, 4]\n"
          ]
        }
      ]
    },
    {
      "cell_type": "markdown",
      "source": [
        "### Binary Tree"
      ],
      "metadata": {
        "id": "QSOm8N3-uQO8"
      }
    },
    {
      "cell_type": "code",
      "source": [
        "class BinaryTree:\n",
        "  def __init__(self,data= None):\n",
        "    self.data= data\n",
        "    self.left= None\n",
        "    self.right= None\n",
        "\n",
        "# insert node using the order min to max \n",
        "  def insert(self,data):\n",
        "    if self.data is not None:\n",
        "      if data < self.data:\n",
        "        if self.left is None:\n",
        "          self.left = BinaryTree(data)\n",
        "        else:\n",
        "          self.left.insert(data)\n",
        "      elif data > self.data:\n",
        "        if self.right is None:\n",
        "          self.right = BinaryTree(data)\n",
        "        else:\n",
        "          self.right.insert(data)\n",
        "    else:\n",
        "      self.data=data \n",
        "\n",
        "#----------------traversel-------------------------------------------\n",
        "\n",
        "#          100\n",
        "#        /    \\\n",
        "#       10      30\n",
        "#     /    \\  /    \\\n",
        "#    5     1  20    50 \n",
        "# Preorder: 100 10 5 1 30 20 50   root-->left-->right  \n",
        "  def Print_Preorder(self,root):\n",
        "    if root is not None:\n",
        "      print(root.data)\n",
        "      self.Print_Preorder(root.left)\n",
        "      self.Print_Preorder(root.right) \n",
        "\n",
        "  def print_Preorder_iterative(self,root):\n",
        "    stack=[root]\n",
        "    result=[]\n",
        "    while stack != []:\n",
        "      root= stack.pop()\n",
        "\n",
        "      result.append(root.data)\n",
        "      if root.right is not None:\n",
        "        stack.append(root.right)\n",
        "      if root.left is not None:\n",
        "        stack.append(root.left)\n",
        "    return result\n",
        "\n",
        "#          100\n",
        "#        /    \\\n",
        "#       10      30\n",
        "#     /    \\  /    \\\n",
        "#    5     1  20    50 \n",
        "# Inorder: 5 10 1 100 20 30 50  left-->root-->right  \n",
        "\n",
        "  def Print_Inorder(self,root): \n",
        "    if root is not None:\n",
        "      if root.left is not None:\n",
        "        self.Print_Inorder(root.left)\n",
        "      print(root.data)\n",
        "      self.Print_Inorder(root.right)\n",
        "  \n",
        "  def Print_Inorder_Iterative(self,root):  \n",
        "    stack = []\n",
        "    result = []\n",
        "    while stack != [] or root is not None:\n",
        "      while root is not None:\n",
        "        stack.append(root)\n",
        "        root=root.left\n",
        "      root=stack.pop()\n",
        "      result.append(root.data)\n",
        "      root=root.right\n",
        "    return result\n",
        "\n",
        "#          100\n",
        "#        /    \\\n",
        "#       10      30\n",
        "#     /    \\  /    \\\n",
        "#    5     1  20    50 \n",
        "# Postorder: 5 1 10 20 50 30 100  left-->right-->root  stack [100 30 10 ]   root [  ]  result [5 1 10]\n",
        "  def Print_Postorder(self,root): \n",
        "    if root is not None:\n",
        "      if root.left is not None:\n",
        "        self.Print_Postorder(root.left)\n",
        "      if root.right is not None:\n",
        "        self.Print_Postorder(root.right)\n",
        "      print(root.data)\n",
        "\n",
        "  def Print_Postorder_Iterative(self,root):  \n",
        "    stack1 = [root]\n",
        "    stack2 = []\n",
        "    result = []\n",
        "    while stack1 != []:\n",
        "      stack2.append(stack1.pop())\n",
        "      if root.left:\n",
        "        stack1.append(root.left)\n",
        "      if root.right:\n",
        "        stack1.append(root.right)\n",
        "        root=root.right\n",
        "      elif stack1 !=[]:\n",
        "        root=stack1[-1]\n",
        "    while stack2 != []:\n",
        "      item=stack2.pop()\n",
        "      result.append(item.data)\n",
        "    return result\n",
        "\n",
        "# Print level order\n",
        "#          100\n",
        "#        /    \\\n",
        "#       10      30\n",
        "#     /    \\  /    \\\n",
        "#    5     1  20    50 \n",
        "# Postorder: 100 10 30 5 1 20 50\n",
        "  def Print_Level_Order(self,root):    \n",
        "    curr=root\n",
        "    stack=[curr]\n",
        "    result=[]\n",
        "    while stack != []:\n",
        "      result.append(stack[0].data)\n",
        "      curr= stack.pop(0)\n",
        "\n",
        "      if curr.left is not None:\n",
        "        stack.append(curr.left)\n",
        "      \n",
        "      if curr.right is not None:\n",
        "        stack.append(curr.right)\n",
        "    return result\n",
        "\n",
        "\n",
        "\n",
        "\n",
        "\n",
        "myTree=BinaryTree(100)\n",
        "# myTree.insert(10)\n",
        "# myTree.insert(30)\n",
        "# myTree.insert(20)\n",
        "# myTree.insert(5)\n",
        "# myTree.insert(1)\n",
        "# myTree.insert(50)\n",
        "myTree.left=BinaryTree(10)\n",
        "myTree.right=BinaryTree(30)\n",
        "myTree.left.left=BinaryTree(5)\n",
        "myTree.left.right=BinaryTree(1)\n",
        "myTree.right.left=BinaryTree(20)\n",
        "myTree.right.right=BinaryTree(50)\n",
        "\n",
        "#insert\n",
        "#          100\n",
        "#        /    \\\n",
        "#       10      30\n",
        "#     /    \\  /    \\\n",
        "#    5     1  20    50 \n",
        "\n",
        "# print(myTree.Print_Preorder(myTree))\n",
        "# print(myTree.Print_Inorder(myTree))\n",
        "# print(myTree.Print_Postorder(myTree))\n",
        "# print(myTree.print_Preorder_iterative(myTree))\n",
        "# print(myTree.Print_Inorder_Iterative(myTree))\n",
        "# print(myTree.Print_Postorder_Iterative(myTree))\n",
        "print(myTree.Print_Level_Order(myTree))\n",
        "\n",
        "# myTree.PrintTree()"
      ],
      "metadata": {
        "colab": {
          "base_uri": "https://localhost:8080/"
        },
        "id": "BBNMD5su2Slz",
        "outputId": "403d8849-fe8b-4bb9-de2d-165ca834fe74"
      },
      "execution_count": null,
      "outputs": [
        {
          "output_type": "stream",
          "name": "stdout",
          "text": [
            "[100, 10, 30, 5, 1, 20, 50]\n"
          ]
        }
      ]
    },
    {
      "cell_type": "markdown",
      "source": [
        "### Heap\n",
        "\n",
        "Heap is a special tree structure in which each parent node is less than or equal to its child node. Then it is called a Min Heap.\n",
        "\n",
        "If each parent node is greater than or equal to its child node then it is called a max heap.\n",
        "\n",
        "* heapify − This function converts a regular list to a heap. \n",
        "\n",
        "* heappush − This function adds an element to the heap without altering the current heap.\n",
        "\n",
        "* heappop − This function returns the smallest data element from the heap.\n",
        "\n",
        "* heapreplace − This function replaces the smallest data element with a new value supplied in the function."
      ],
      "metadata": {
        "id": "z_sGBCk1hT7v"
      }
    },
    {
      "cell_type": "code",
      "source": [
        "import heapq\n",
        "\n",
        "H = [21,1,45,78,3,5]\n",
        "\n",
        "# Create the heap\n",
        "heapq.heapify(H)\n",
        "print(H)   # return: [1, 3, 5, 78, 21, 45]\n",
        "\n",
        "# Add element\n",
        "heapq.heappush(H,8)\n",
        "print(H) # return: [1, 3, 5, 78, 21, 45, 8]\n",
        "\n",
        "# Remove element from the heap\n",
        "heapq.heappop(H) \n",
        "print(H) # return: [3, 5, 78, 21, 45, 8]\n",
        "\n",
        "# Replace an element \n",
        "heapq.heapreplace(H,6)\n",
        "print(H) # return: [3, 5, 6, 78, 21, 45, 8]"
      ],
      "metadata": {
        "colab": {
          "base_uri": "https://localhost:8080/"
        },
        "id": "iCb1D6AOh3q2",
        "outputId": "8d854062-f5f9-42e8-c566-b548d50f1030"
      },
      "execution_count": 68,
      "outputs": [
        {
          "output_type": "stream",
          "name": "stdout",
          "text": [
            "[1, 3, 5, 78, 21, 45]\n",
            "[1, 3, 5, 78, 21, 45, 8]\n",
            "[3, 8, 5, 78, 21, 45]\n",
            "[5, 8, 6, 78, 21, 45]\n"
          ]
        }
      ]
    },
    {
      "cell_type": "markdown",
      "source": [
        "### Graphs"
      ],
      "metadata": {
        "id": "eiMt9pjSU-PP"
      }
    },
    {
      "cell_type": "code",
      "source": [
        "class Node:\n",
        "  def __init__(self,data,neighbors=None):\n",
        "    self.data= data\n",
        "    if neighbors is None:\n",
        "      self.neighbors= []\n",
        "    else:\n",
        "      self.neighbors= neighbors\n",
        "  \n",
        "class Graph:\n",
        "  def __init__(self, nodes=None):\n",
        "    if nodes is None:\n",
        "      self.nodes=[]\n",
        "    else:\n",
        "      self.nodes= nodes\n",
        "\n",
        "  def add_node(self,data,neighbors):\n",
        "    self.nodes.append(Node(data,neighbors))\n",
        "\n",
        "  def find_node(self,data):\n",
        "    for node in self.nodes:\n",
        "      if node.data==data:\n",
        "        return node\n",
        "    return None\n",
        "\n",
        "  def add_neighboor(self,dataN1, dataN2):\n",
        "    n1=self.find_node(dataN1)\n",
        "    n2=self.find_node(dataN2)\n",
        "    if n1 !=None and n2 !=None:\n",
        "      n1.neighbors.append(n2.data)\n",
        "      n2.neighbors.append(n1.data)\n",
        "      return print(\"Neighboor is successively added\")\n",
        "    else:\n",
        "      return F\"one or both of the nodes are not found\"\n",
        "\n",
        "  def get_neighbors(self,data):\n",
        "    node=self.find_node(data)\n",
        "    n=[]\n",
        "    for i in node.neighbors:\n",
        "      n.append(i)\n",
        "    return print(n)\n",
        "\n",
        "  def get_length(self):\n",
        "    return print(len(self.nodes))\n",
        "\n",
        "  def display_nodes(self):\n",
        "    val=[]\n",
        "    for node in self.nodes:\n",
        "      val.append(node.data)\n",
        "    return print(val)\n",
        "  \n",
        "  def display_neighbors(self):\n",
        "    for i in self.nodes:\n",
        "        print(i.neighbors,end=' ')\n",
        "\n",
        "  def depth_first_search(self,visited,root): #self: graph, visited [ ], root: 'a'\n",
        "    node=self.find_node(root)\n",
        "    if root not in visited:\n",
        "      print(root, end=' ')\n",
        "      visited.append(root)\n",
        "      for neighboor in node.neighbors:\n",
        "        self.depth_first_search(visited, neighboor)\n",
        "    \n",
        "  def breadth_first_search(self,root):\n",
        "    visited=[]   \n",
        "    queue=[root]  \n",
        "    while queue:\n",
        "      new_root=queue.pop(0)\n",
        "      visited.append(new_root)\n",
        "      node=self.find_node(new_root)\n",
        "      for neighboor in node.neighbors:\n",
        "        if neighboor not in visited:\n",
        "          queue.append(neighboor)\n",
        "    print(visited, end=' ')\n",
        "\n",
        "\n",
        "\n",
        "mygraph=Graph()\n",
        "mygraph.add_node('a',['b', 'c'])\n",
        "mygraph.add_node('b',['a', 'd'])\n",
        "mygraph.add_node('c',['a', 'd'])\n",
        "mygraph.add_node('d',['b', 'c'])\n",
        "mygraph.add_node('e',[ 'd']   )\n",
        "\n",
        "\n",
        "mygraph.get_length()\n",
        "mygraph.add_neighboor('b','e')\n",
        "mygraph.display_nodes()\n",
        "mygraph.get_neighbors('e')\n",
        "mygraph.display_neighbors()\n",
        "\n",
        "print('\\n')\n",
        "mygraph.depth_first_search([ ],'a')\n",
        "\n",
        "print('\\n')\n",
        "mygraph.breadth_first_search('a')\n",
        "# mygraph.Node\n",
        "# mynode= Node(3, [4,5,6])\n",
        "# mynode.has_neighbors \n",
        "# print(mynode.has_neighbors)"
      ],
      "metadata": {
        "colab": {
          "base_uri": "https://localhost:8080/"
        },
        "id": "JpX-mCIuVBa8",
        "outputId": "9abf22a6-8ed2-4431-8c9e-a884bb544441"
      },
      "execution_count": 163,
      "outputs": [
        {
          "output_type": "stream",
          "name": "stdout",
          "text": [
            "5\n",
            "Neighboor is successively added\n",
            "['a', 'b', 'c', 'd', 'e']\n",
            "['d', 'b']\n",
            "['b', 'c'] ['a', 'd', 'e'] ['a', 'd'] ['b', 'c'] ['d', 'b'] \n",
            "\n",
            "a b d c e \n",
            "\n",
            "['a', 'b', 'c', 'd', 'e', 'd'] "
          ]
        }
      ]
    },
    {
      "cell_type": "markdown",
      "source": [
        "### Searching Algorithms"
      ],
      "metadata": {
        "id": "eypNKX3sX8T6"
      }
    },
    {
      "cell_type": "code",
      "source": [
        "# Binary search:\n",
        "def Binary_search(array,x):\n",
        "  min=0\n",
        "  max=len(array)-1\n",
        "  mid=0\n",
        "  while min<=max:\n",
        "    mid=(min+max)//2\n",
        "    if array[mid]<x:\n",
        "      min= mid+1\n",
        "    elif array[mid]>x:\n",
        "      max=mid-1\n",
        "    else:\n",
        "      return mid\n",
        "  return f\"x is not exist in the array\"\n",
        "\n",
        "a=[1,2,3, 5, 11]\n",
        "x=5\n",
        "Binary_search(a,x)\n",
        "\n",
        "\n"
      ],
      "metadata": {
        "colab": {
          "base_uri": "https://localhost:8080/"
        },
        "id": "ddJYimvzYAKO",
        "outputId": "005a33f7-51dc-4fe8-a671-8d50f53871e7"
      },
      "execution_count": null,
      "outputs": [
        {
          "output_type": "execute_result",
          "data": {
            "text/plain": [
              "3"
            ]
          },
          "metadata": {},
          "execution_count": 27
        }
      ]
    },
    {
      "cell_type": "markdown",
      "source": [
        "### Sorting Algorithms"
      ],
      "metadata": {
        "id": "AmjcFGr-oDUT"
      }
    },
    {
      "cell_type": "code",
      "source": [
        "#Quicksort\n",
        "#select the rightmost element as the pivot.\n",
        "    # Steps:\n",
        "        # Step 1:  Select a pivot element\n",
        "        # Step 2:  Partition the array around the pivot element. Move all the elements < pivot to the left of the pivot and move all elements >= pivot to the pivot’s right\n",
        "        # Step 3:  After Step 2, the pivot element is in its correct position\n",
        "        # Step 4:  Apply the quicksort recursively on the left partition\n",
        "        # Step 5:  Apply the quicksort recursively on the right partition\n",
        "        # Step 6:  Stop the recursion when the base case is reached. The base case is an array of size zero or one\n",
        "def quickSort(array):\n",
        "  if len(array)<=1:  \n",
        "    return array                                                     \n",
        "  else:                                                           \n",
        "    pivot=array.pop()\n",
        "\n",
        "  items_greater= []\n",
        "  items_lower= []\n",
        "\n",
        "  for item in array:\n",
        "    if item > pivot:\n",
        "      items_greater.append(item)\n",
        "    else:\n",
        "      items_lower.append(item)\n",
        "  \n",
        "  return quickSort(items_lower)  + [pivot]+ quickSort(items_greater)  \n",
        "\n",
        "\n",
        "data = [8, 7, 2, 1, 0, 9, 6]\n",
        "quickSort(data)"
      ],
      "metadata": {
        "id": "GLpLA7rBCfXK",
        "outputId": "5f9a564b-77e7-4d2d-8155-48bc07b849d5",
        "colab": {
          "base_uri": "https://localhost:8080/"
        }
      },
      "execution_count": null,
      "outputs": [
        {
          "output_type": "execute_result",
          "data": {
            "text/plain": [
              "[0, 1, 2, 6, 7, 8, 9]"
            ]
          },
          "metadata": {},
          "execution_count": 1
        }
      ]
    },
    {
      "cell_type": "code",
      "source": [
        "# Merge sort:\n",
        "def merge_sorting(array):\n",
        "  if len(array)>1:  \n",
        "    mid= len(array)//2\n",
        "\n",
        "    left_array=array[:mid]\n",
        "    right_array=array[mid:]\n",
        "\n",
        "    merge_sorting(left_array)\n",
        "    merge_sorting(right_array)\n",
        "\n",
        "    i=0  #left_index\n",
        "    j=0  #right_index\n",
        "    k=0  # index of the sorted array\n",
        "    while i<len(left_array) and j<len(right_array):\n",
        "      if left_array[i]< right_array[j]:\n",
        "        array[k]=left_array[i]\n",
        "        i+=1\n",
        "      else:\n",
        "        array[k]=right_array[j]\n",
        "        j+=1\n",
        "      k+=1\n",
        "    while i<len(left_array):\n",
        "      array[k]=left_array[i]\n",
        "      i+=1\n",
        "      k+=1\n",
        "    while j<len(right_array):\n",
        "      array[k]=right_array[j]\n",
        "      j+=1\n",
        "      k+=1\n",
        "    return array\n",
        "\n",
        "array = [64, 34, 25, 12, 22, 11, 90]\n",
        "merge_sorting(array)\n",
        "print(array)\n",
        "\n",
        "\n",
        "\n",
        "\n"
      ],
      "metadata": {
        "colab": {
          "base_uri": "https://localhost:8080/"
        },
        "id": "VFqzHMdjgnDA",
        "outputId": "9d83b7f0-faec-402a-b51b-c3f8f0517b59"
      },
      "execution_count": null,
      "outputs": [
        {
          "output_type": "stream",
          "name": "stdout",
          "text": [
            "[11, 12, 22, 25, 34, 64, 90]\n"
          ]
        }
      ]
    },
    {
      "cell_type": "code",
      "source": [
        "# Merge Sort:\n",
        "# Merge sort first divides the array into equal halves and then combines them in a sorted manner.\n",
        "def merge_sort(unsorted_list):\n",
        "   if len(unsorted_list) <= 1:\n",
        "      return unsorted_list\n",
        "# Find the middle point and devide it\n",
        "   middle = len(unsorted_list) // 2\n",
        "   left_list = unsorted_list[:middle]\n",
        "   right_list = unsorted_list[middle:]\n",
        "\n",
        "   left_list = merge_sort(left_list)\n",
        "   right_list = merge_sort(right_list)\n",
        "   return list(merge(left_list, right_list))\n",
        "\n",
        "# Merge the sorted halves\n",
        "def merge(left_half,right_half):\n",
        "   res = []\n",
        "   while len(left_half) != 0 and len(right_half) != 0:\n",
        "      if left_half[0] < right_half[0]:\n",
        "         res.append(left_half[0])\n",
        "         left_half.remove(left_half[0])\n",
        "      else:\n",
        "         res.append(right_half[0])\n",
        "         right_half.remove(right_half[0])\n",
        "   if len(left_half) == 0:\n",
        "      res = res + right_half\n",
        "   else:\n",
        "      res = res + left_half\n",
        "   return res\n",
        "unsorted_list = [64, 34, 25, 12, 22, 11, 90]\n",
        "print(merge_sort(unsorted_list))  #RETRUN: [11, 12, 22, 25, 34, 64, 90]\n",
        "\n",
        "\n",
        "#--------------------------------------------------------------------------------------------------------------\n",
        "# Bubble Sort: \n",
        "#It is a comparison-based algorithm in which each pair of adjacent elements is compared\n",
        "# and the elements are swapped if they are not in order.\n",
        "def bubblesort(list):\n",
        "   for iter_num in range(len(list)-1,0,-1):\n",
        "      for idx in range(iter_num):\n",
        "         if list[idx]>list[idx+1]:\n",
        "            temp = list[idx]\n",
        "            list[idx] = list[idx+1]\n",
        "            list[idx+1] = temp\n",
        "list = [19,2,31,45,6,11,121,27]\n",
        "bubblesort(list)\n",
        "print(list)   #retrun: [2, 6, 11, 19, 27, 31, 45, 121]\n",
        "\n",
        "\n",
        "\n",
        "\n",
        "\n"
      ],
      "metadata": {
        "colab": {
          "base_uri": "https://localhost:8080/"
        },
        "id": "9VnHI9FpoIjD",
        "outputId": "e7132ff3-cd38-40e9-e3ee-3d95c9daca09"
      },
      "execution_count": 164,
      "outputs": [
        {
          "output_type": "stream",
          "name": "stdout",
          "text": [
            "[11, 12, 22, 25, 34, 64, 90]\n",
            "[2, 6, 11, 19, 27, 31, 45, 121]\n"
          ]
        }
      ]
    }
  ]
}